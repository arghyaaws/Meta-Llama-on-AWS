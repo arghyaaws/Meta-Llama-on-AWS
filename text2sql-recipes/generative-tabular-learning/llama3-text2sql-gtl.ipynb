{
 "cells": [
  {
   "cell_type": "markdown",
   "id": "4901509a-8316-47a3-879b-544a43b37ef3",
   "metadata": {},
   "source": [
    "# Customizing Llama 3x models to industry datasets using in-context learning techniques like [GTL](https://arxiv.org/pdf/2310.07338)\n",
    "\n",
    "---"
   ]
  },
  {
   "cell_type": "markdown",
   "id": "aa596a49-ce47-4053-a93d-699bdef52426",
   "metadata": {},
   "source": [
    "## Introduction"
   ]
  },
  {
   "cell_type": "markdown",
   "id": "d4b488b5-d05b-45d2-84fb-6bc80cc30241",
   "metadata": {},
   "source": [
    "This notebook introduces an approach that leverages Llama 3 models on Amazon Bedrock/Amazon SageMaker JumpStart, including advanced prompt engineering, to convert natural language questions into executable SQL queries. The Prompting technique used here allows the Llama models to understand industry specific tabular dataset better and provide more accurate and relevant analysis of the structured tabular data. Our approach generates SQL queries, enabling information retrieval from industry specific database structures. This approach is crucial for a lot of organizations to use Llama models without the complexity required for fine-tuning. A lot organizations dont have the large labeled datasets to fine-tune large language models and also may end up training multiple sets of models for different datasets which can be avoided by using the techniques shown here.\n",
    "\n",
    "Moreover, our approach demonstrates high scalability through dynamically selecting and retrieving the most relevant table schemas based on the given natural language question. This scalability is achieved by employing in-context learning for the llama models specific to the dataset being used for analysis. \n",
    "\n",
    "Our solution can be applied in practical scenarios where companies manage numerous databases with industry specific table and column names, such as in the finance or healthcare industry.\n",
    "\n",
    "Advantages of this method:\n",
    "- Fine-tuning or data required for finetuning can be challenging which can be avoided using this mechanism\n",
    "- Correct Analysis of the tabular data using the industry specific language becomes easier\n",
    "- Consistency and accuracy of the data analysis of the models improve compared with few-shot prompting \n",
    "- Generic Llama models can be used from Amazon SageMaker or Amazon Bedrock without need to maintain set of use-case specific fine-tuned models which may require mature MLOps processes. "
   ]
  },
  {
   "cell_type": "markdown",
   "id": "8126d29c-4748-4831-8aff-60d71c61462e",
   "metadata": {},
   "source": [
    "---\n",
    "## Llama 3 Model Selection\n",
    "\n",
    "Today, there are two Llama 3 models available on Amazon Bedrock:\n",
    "\n",
    "### 1. Llama 3 8B\n",
    "\n",
    "- **Description:** Ideal for limited computational power and resources, faster training times, and edge devices.\n",
    "- **Max Tokens:** 2,048\n",
    "- **Context Window:** 8,196\n",
    "- **Languages:** English\n",
    "- **Supported Use Cases:** Synthetic Text Generation, Text Classification, and Sentiment Analysis.\n",
    "\n",
    "### 2. Llama 3 70B\n",
    "\n",
    "- **Description:** Ideal for content creation, conversational AI, language understanding, research development, and enterprise applications. \n",
    "- **Max Tokens:** 2,048\n",
    "- **Context Window:** 8,196\n",
    "- **Languages:** English\n",
    "- **Supported Use Cases:** Synthetic Text Generation and Accuracy, Text Classification and Nuance, Sentiment Analysis and Nuance Reasoning, Language Modeling, Dialogue Systems, and Code Generation.\n",
    "\n",
    "### Performance and Cost Trade-offs\n",
    "\n",
    "The table below compares the model performance on the Massive Multitask Language Understanding (MMLU) benchmark and their on-demand pricing on Amazon Bedrock.\n",
    "\n",
    "| Model           | MMLU Score | Price per 1,000 Input Tokens | Price per 1,000 Output Tokens |\n",
    "|-----------------|------------|------------------------------|-------------------------------|\n",
    "| Llama 3 8B | 68.4%      | \\$0.0004                   | \\$0.0006                    |\n",
    "| Llama 3 70B | 82.0%      | \\$0.00265                   | \\$0.0035                     |\n",
    "\n",
    "For more information, refer to the following links:\n",
    "\n",
    "1. [Llama 3 8B Model Cards and Prompt Formats](https://llama.meta.com/docs/model-cards-and-prompt-formats/meta-llama-3)\n",
    "2. [Amazon Bedrock Pricing Page](https://aws.amazon.com/bedrock/pricing/)\n"
   ]
  },
  {
   "cell_type": "markdown",
   "id": "3dd85684",
   "metadata": {},
   "source": [
    "## The Approach to the Text-to-SQL Problem\n",
    "This notebook covers the following approaches\n",
    "\n",
    "### Few-shot GTL Prompt for text-to-SQL \n",
    "Few-shot text-to-SQL is an approach for querying databases by translating natural language questions into SQL queries, using only a few examples for in-context learning of industry topics by the Large Language Model.\n",
    "\n",
    "Providing following information to the model as part of the Prompt:\n",
    "    - Model Personna\n",
    "    - Sample Data Set\n",
    "    - Some features and descriptions\n",
    "    - Label column to focus on for analysis by the model\n",
    "\n",
    "Add more features in the prompt for more complex questions that requires queries to use multiple columns and get consistently high accuracy with output generated in business specific language.\n",
    "\n",
    "Reference (Generative Tabular Learning): https://arxiv.org/abs/2305.12586\n",
    "---"
   ]
  },
  {
   "cell_type": "markdown",
   "id": "3c1e413d",
   "metadata": {},
   "source": [
    "##### **Structure of Prompt**"
   ]
  },
  {
   "cell_type": "markdown",
   "id": "9024877b",
   "metadata": {},
   "source": [
    "![GTL Prompt Structure](llama-gtl.drawio.png)"
   ]
  },
  {
   "cell_type": "markdown",
   "id": "058dceec",
   "metadata": {},
   "source": [
    "## Objectives\n",
    "\n",
    "This notebook will provide code snippets to assist with implementing two differents approaches to converting a natural language question into a SQL query that would answer it.\n",
    "- Few-shot prompting\n",
    "- Few-shot prompting with GTL\n",
    "\n",
    "---"
   ]
  },
  {
   "cell_type": "markdown",
   "id": "855a20c2",
   "metadata": {},
   "source": [
    "### Tools\n",
    "\n",
    "+ AWS Python SDKs [boto3](https://boto3.amazonaws.com/v1/documentation/api/latest/index.html) to be able to submit API calls to [Amazon Bedrock](https://aws.amazon.com/bedrock/).\n",
    "\n",
    "+ [LangChain](https://python.langchain.com/v0.1/docs/get_started/introduction/) is a framework that provides off the shelf components to make it easier to build applications with large language models. It is supported in multiple programming languages, such as Python, JavaScript, Java and Go. In this notebook, LangChain is used to build a prompt template.\n",
    "\n",
    "+ [Amazon Athena](https://aws.amazon.com/athena/) is a serverless, interactive analytics service built on open-source frameworks, supporting open-table and file formats. Athena is built on open-source Trino and Presto engines and Apache Spark frameworks, with no provisioning or configuration effort required.\n",
    "\n",
    "+ [ETFs and Mutual Funds composition & yield metrics](https://www.kaggle.com/datasets/andrezaza/large-etfs-with-size-allocations-and-exposures?resource=download) Dataset from Kaggle\n",
    "---"
   ]
  },
  {
   "cell_type": "markdown",
   "id": "4c1a6bb4",
   "metadata": {},
   "source": [
    "## Pre-requisites:\n",
    "\n",
    "1. Use kernel either `conda_python3`, `conda_pytorch_p310` or `conda_tensorflow2_p310`.\n",
    "2. Install the required packages.\n",
    "3. Access to the LLM API. "
   ]
  },
  {
   "cell_type": "markdown",
   "id": "83dd282c-e45f-463e-9f68-f80176f4f0af",
   "metadata": {},
   "source": [
    "### Amazon Bedrock Deployment"
   ]
  },
  {
   "cell_type": "markdown",
   "id": "3b92d068-da09-4d98-97f6-d14e7b0b8f6f",
   "metadata": {},
   "source": [
    "In this notebook, Llama 3 70B is used. By deploying the notebook through our cloudformation template, it is granted the appropriate IAM permissions to send API request to Bedrock.\n",
    "\n",
    "Refer [here](https://aws.amazon.com/blogs/aws/metas-llama-3-models-are-now-available-in-amazon-bedrock/) for details on how Amazon Bedrock provides access to Meta’s Llama 3."
   ]
  },
  {
   "cell_type": "markdown",
   "id": "8fae4171-4f20-4a68-b6e1-0a40a3854de5",
   "metadata": {},
   "source": [
    "### SageMaker Deployment"
   ]
  },
  {
   "cell_type": "markdown",
   "id": "f465f181-b661-4f59-bdac-92ed0e164203",
   "metadata": {},
   "source": [
    "#### Changing instance type\n",
    "---\n",
    "Models are supported on the following instance types:\n",
    "\n",
    " - Llama3 8B Text Generation: `ml.g5.2xlarge`, `ml.g5.4xlarge`, `ml.g5.8xlarge`, `ml.g5.12xlarge`, `ml.g5.24xlarge`, `ml.g5.48xlarge`, and `ml.p4d.24xlarge`\n",
    "- Llama3 70B Text Generation: `ml.g5.48xlarge`, and `ml.p4d.24xlarge`\n",
    "\n",
    "By default, the JumpStartModel class selects a default instance type available in your region. If you would like to use a different instance type, you can do so by specifying instance type in the JumpStartModel class.\n",
    "\n",
    "`my_model = JumpStartModel(model_id=model_id, instance_type=\"ml.g5.12xlarge\")`"
   ]
  },
  {
   "cell_type": "markdown",
   "id": "be911213",
   "metadata": {},
   "source": [
    "---"
   ]
  },
  {
   "cell_type": "markdown",
   "id": "b51b2317-d90d-481f-8d51-464a93650978",
   "metadata": {
    "tags": []
   },
   "source": [
    "## Getting Started"
   ]
  },
  {
   "cell_type": "markdown",
   "id": "12f1f1bb-966d-4726-804c-b0d1f9108d8c",
   "metadata": {},
   "source": [
    "### Step 0: Select Model Hosting Service\n",
    "\n",
    "Here, you can select to run this notebook using SageMaker JumpStart or Amazon Bedrock."
   ]
  },
  {
   "cell_type": "code",
   "execution_count": 3,
   "id": "6a9f9044-79b0-4f76-9085-0f8c28568f10",
   "metadata": {
    "tags": []
   },
   "outputs": [
    {
     "name": "stdin",
     "output_type": "stream",
     "text": [
      "Do you want to run the LLM for this notebook using Amazon Bedrock (B) or Amazon SageMaker JumpStart (S)? (default: B)  B\n"
     ]
    },
    {
     "name": "stdout",
     "output_type": "stream",
     "text": [
      "You have chosen to run the LLM for this notebook using Amazon Bedrock.\n"
     ]
    }
   ],
   "source": [
    "def ask_for_service():\n",
    "    service = input(\"Do you want to run the LLM for this notebook using Amazon Bedrock (B) or Amazon SageMaker JumpStart (S)? (default: B) \").strip().upper()\n",
    "    if service in ['S', 'SAGEMAKER']:\n",
    "        return 'Amazon SageMaker'\n",
    "    elif service in ['B', 'BEDROCK', '']:\n",
    "        return 'Amazon Bedrock'\n",
    "    else:\n",
    "        print(\"Invalid input. Using Amazon Bedrock by default.\")\n",
    "        return 'Amazon Bedrock'\n",
    "\n",
    "# Call the function and get the selected service\n",
    "llm_selected_service = ask_for_service()\n",
    "\n",
    "# Print the selected service\n",
    "print(f\"You have chosen to run the LLM for this notebook using {llm_selected_service}.\")"
   ]
  },
  {
   "cell_type": "code",
   "execution_count": 4,
   "id": "516b0617-6f4b-4344-b44d-8abf090b9c09",
   "metadata": {
    "tags": []
   },
   "outputs": [
    {
     "name": "stdin",
     "output_type": "stream",
     "text": [
      "Do you want to run the Embedding for this notebook using Amazon Bedrock (B) or Amazon SageMaker JumpStart (S)? (default: B)  B\n"
     ]
    },
    {
     "name": "stdout",
     "output_type": "stream",
     "text": [
      "You have chosen to run the Embedding for this notebook using Amazon Bedrock.\n"
     ]
    }
   ],
   "source": [
    "def ask_for_service():\n",
    "    service = input(\"Do you want to run the Embedding for this notebook using Amazon Bedrock (B) or Amazon SageMaker JumpStart (S)? (default: B) \").strip().upper()\n",
    "    if service in ['S', 'SAGEMAKER']:\n",
    "        return 'Amazon SageMaker'\n",
    "    elif service in ['B', 'BEDROCK', '']:\n",
    "        return 'Amazon Bedrock'\n",
    "    else:\n",
    "        print(\"Invalid input. Using Amazon Bedrock by default.\")\n",
    "        return 'Amazon Bedrock'\n",
    "\n",
    "# Call the function and get the selected service\n",
    "embedding_selected_service = ask_for_service()\n",
    "\n",
    "# Print the selected service\n",
    "print(f\"You have chosen to run the Embedding for this notebook using {embedding_selected_service}.\")"
   ]
  },
  {
   "cell_type": "code",
   "execution_count": 5,
   "id": "c904c9df-7245-4c3b-98af-96298a61d1a7",
   "metadata": {
    "tags": []
   },
   "outputs": [],
   "source": [
    "if llm_selected_service == 'Amazon SageMaker':\n",
    "    # Import the JumpStartModel class from the SageMaker JumpStart library\n",
    "    from sagemaker.jumpstart.model import JumpStartModel\n",
    "\n",
    "    # Specify the model ID for the HuggingFace Llama 3 Instruct LLM model\n",
    "    llama3_8b_id = \"meta-textgeneration-llama-3-8b-instruct\"\n",
    "    llama3_70b_id = \"meta-textgeneration-llama-3-70b-instruct\"\n",
    "    DEFULT_LLM_MODEL_ID = llama3_70b_id\n",
    "    if DEFULT_LLM_MODEL_ID == llama3_70b_id:\n",
    "        instance_type = \"ml.g5.48xlarge\"\n",
    "    else:\n",
    "        instance_type = \"ml.g5.12xlarge\"\n",
    "    model = JumpStartModel(model_id=DEFULT_LLM_MODEL_ID, instance_type=instance_type)\n",
    "    llm_predictor = model.deploy(accept_eula=True)\n",
    "    print(f\"LLM SageMaker Endpoint Name: {llm_predictor.endpoint_name}\")\n",
    "else:\n",
    "    llm_predictor = None\n",
    "    llama3_8b_id = \"meta.llama3-8b-instruct-v1:0\"\n",
    "    llama3_70b_id = \"meta.llama3-70b-instruct-v1:0\"\n",
    "    DEFULT_LLM_MODEL_ID = llama3_70b_id\n",
    "    DEFAULT_EMBEDDING_MODEL_ID = \"amazon.titan-embed-text-v2:0\"\n",
    "\n",
    "if embedding_selected_service == 'Amazon SageMaker':\n",
    "    # Import the JumpStartModel class from the SageMaker JumpStart library\n",
    "    from sagemaker.jumpstart.model import JumpStartModel\n",
    "\n",
    "    # Deploy BGE Large En embedding model on Amazon SageMaker JumpStart:\n",
    "    # Specify the model ID for the HuggingFace BGE Large EN Embedding model\n",
    "    DEFAULT_EMBEDDING_MODEL_ID = \"huggingface-sentencesimilarity-bge-large-en\"\n",
    "    text_embedding_model = JumpStartModel(model_id=DEFAULT_EMBEDDING_MODEL_ID)\n",
    "    embedding_predictor = text_embedding_model.deploy()\n",
    "    print(f\"LLM SageMaker Endpoint Name: {embedding_predictor.endpoint_name}\")\n",
    "else:\n",
    "    embedding_predictor = None\n",
    "    DEFAULT_EMBEDDING_MODEL_ID = \"amazon.titan-embed-text-v2:0\""
   ]
  },
  {
   "cell_type": "markdown",
   "id": "26350f6e-2ae8-40c0-86f2-626cc595af71",
   "metadata": {
    "tags": []
   },
   "source": [
    "### Step 1: Install Dependencies\n",
    "\n",
    "Here, we will install all the required dependencies to run this notebook."
   ]
  },
  {
   "cell_type": "code",
   "execution_count": 6,
   "id": "e6d52454-073b-4a5a-b293-924419e1c8d1",
   "metadata": {
    "tags": []
   },
   "outputs": [],
   "source": [
    "!pip install boto3==1.34.127 -qU --force --quiet --no-warn-conflicts\n",
    "!pip install botocore==1.34.144 -qU --force --quiet --no-warn-conflicts\n",
    "!pip install langchain==0.2.5 -qU --force --quiet --no-warn-conflicts\n",
    "!pip install numpy==1.26.4 -qU --force --quiet --no-warn-conflicts"
   ]
  },
  {
   "cell_type": "markdown",
   "id": "789a4385-1945-4358-ad33-a6d80c867d95",
   "metadata": {},
   "source": [
    "**Note:** *When installing libraries using the pip, you may encounter errors or warnings during the installation process. These are generally not critical and can be safely ignored. However, after installing the libraries, it is recommended to restart the kernel or computing environment you are working in. Restarting the kernel ensures that the newly installed libraries are loaded properly and available for use in your code or workflow.*"
   ]
  },
  {
   "cell_type": "markdown",
   "id": "397f0206-1fe9-46a8-a6ff-c1fb3d045578",
   "metadata": {},
   "source": [
    "#### Now lets import the required modules to run the notbook"
   ]
  },
  {
   "cell_type": "code",
   "execution_count": 7,
   "id": "756999dd-ac11-4b3a-8e43-2c4cdc2ad9b2",
   "metadata": {
    "tags": []
   },
   "outputs": [],
   "source": [
    "import boto3\n",
    "\n",
    "import json\n",
    "from langchain import PromptTemplate\n",
    "\n",
    "import re, time\n",
    "from typing import Dict, List, Any\n",
    "import yaml"
   ]
  },
  {
   "cell_type": "code",
   "execution_count": 8,
   "id": "703c9333",
   "metadata": {
    "tags": []
   },
   "outputs": [],
   "source": [
    "# Setup Bedrock Client\n",
    "bedrock_client = boto3.client(\n",
    "    service_name='bedrock-runtime'\n",
    ")"
   ]
  },
  {
   "cell_type": "markdown",
   "id": "0b12765f-10a8-4aae-9e62-4ee7f4e526cc",
   "metadata": {},
   "source": [
    "### Step 2: Database Connection"
   ]
  },
  {
   "cell_type": "markdown",
   "id": "7a2493f9-833f-40ff-a9db-b81f47e37c66",
   "metadata": {},
   "source": [
    "Here we connect to the Amazon Athena Database and query Athena Table"
   ]
  },
  {
   "cell_type": "markdown",
   "id": "0c970c8c-f566-430f-b12b-e669cc7241eb",
   "metadata": {},
   "source": [
    "Establish the database connection"
   ]
  },
  {
   "cell_type": "code",
   "execution_count": 9,
   "id": "705ab665-9b2e-4141-b7fb-df3329ac61c2",
   "metadata": {
    "tags": []
   },
   "outputs": [],
   "source": [
    "# Get Environment Variables\n",
    "import boto3\n",
    "awsRegion = 'us-east-1'\n",
    "s3bucketPrefix = 'textract-console-us-east-1-659785f3-fe94-4ad8-90cf-51c6b962df69'\n",
    "athenaworkgroup = 'primary'\n",
    "\n",
    "# Create Athena Boto3 client\n",
    "athenaClient = boto3.client('athena', region_name=awsRegion)"
   ]
  },
  {
   "cell_type": "code",
   "execution_count": 10,
   "id": "49eb5c2b-a0a0-49dc-8c4a-4742576f6756",
   "metadata": {
    "tags": []
   },
   "outputs": [],
   "source": [
    "DBName = 'default'\n",
    "athenaS3Staging = 's3://' + s3bucketPrefix + '/'\n",
    "athenaWorkgroup = athenaworkgroup\n",
    "RESULT_OUTPUT_LOCATION = athenaS3Staging"
   ]
  },
  {
   "cell_type": "markdown",
   "id": "ad1cb5ef-41ea-43d9-ace9-8ca9c2dda260",
   "metadata": {},
   "source": [
    "#### Load table schema settings"
   ]
  },
  {
   "cell_type": "code",
   "execution_count": 11,
   "id": "2579b20a-eb9c-4146-88e7-d4936d8d3038",
   "metadata": {
    "tags": []
   },
   "outputs": [],
   "source": [
    "def load_settings(file_path):\n",
    "    \"\"\"\n",
    "    Reads a YAML file and returns its contents as a Python object.\n",
    "\n",
    "    Args:\n",
    "        file_path (str): The path to the YAML file.\n",
    "\n",
    "    Returns:\n",
    "        obj: The contents of the YAML file as a Python object.\n",
    "    \"\"\"\n",
    "    try:\n",
    "        with open(file_path, 'r') as file:\n",
    "            data = yaml.safe_load(file)\n",
    "        return data\n",
    "    except FileNotFoundError:\n",
    "        print(f\"Error: The file '{file_path}' does not exist.\")\n",
    "    except yaml.YAMLError as exc:\n",
    "        print(f\"Error: Failed to parse the YAML file '{file_path}': {exc}\")"
   ]
  },
  {
   "cell_type": "markdown",
   "id": "312d898a",
   "metadata": {},
   "source": [
    "### Step 3: Provide schema information for Amazon Athena Table"
   ]
  },
  {
   "cell_type": "code",
   "execution_count": 12,
   "id": "2fcf569e-6c76-4eee-8be7-cc0ab13a3802",
   "metadata": {
    "tags": []
   },
   "outputs": [],
   "source": [
    "# Load table settings\n",
    "settings_etf = load_settings('etftable.yml')\n",
    "table_etf = settings_etf['table_name']\n",
    "table_schema_etf = settings_etf['table_schema']"
   ]
  },
  {
   "cell_type": "markdown",
   "id": "13bf28a8-0d22-4223-989b-243431149e22",
   "metadata": {},
   "source": [
    "### Step 4: Create helper functions"
   ]
  },
  {
   "cell_type": "markdown",
   "id": "c7ae6aca-18fb-4beb-a6ae-caaeea512d1e",
   "metadata": {},
   "source": [
    "To facilate the usability and readability of the SQL Query Analysis made by Llama 3, we have developed a suite of helper functions tailored to various use cases."
   ]
  },
  {
   "cell_type": "markdown",
   "id": "43b445fc-da02-477e-a6b6-26848c44a727",
   "metadata": {},
   "source": [
    "The `format_instructions` function is designed to process the input from Llama 3 models, allowing a conversation between roles such as `system`, `user`, and `assistant`. To see more details about Llama 3 prompt formats, click [here](https://llama.meta.com/docs/model-cards-and-prompt-formats/meta-llama-3/)."
   ]
  },
  {
   "cell_type": "code",
   "execution_count": 13,
   "id": "7912ce9e-598c-47db-9780-b1cc95408f06",
   "metadata": {
    "tags": []
   },
   "outputs": [],
   "source": [
    "def format_instructions(instructions: List[Dict[str, str]]) -> List[str]:\n",
    "    \"\"\"Format instructions where conversation roles must alternate system/user/assistant/user/assistant/...\"\"\"\n",
    "    prompt: List[str] = []\n",
    "    for instruction in instructions:\n",
    "        if instruction[\"role\"] == \"system\":\n",
    "            prompt.extend([\"<|begin_of_text|><|start_header_id|>system<|end_header_id|>\\n\", (instruction[\"content\"]).strip(), \"<|eot_id|>\"])\n",
    "        elif instruction[\"role\"] == \"user\":\n",
    "            prompt.extend([\"<|start_header_id|>user<|end_header_id|>\\n\", (instruction[\"content\"]).strip(), \"<|eot_id|>\"])\n",
    "        else:\n",
    "            raise ValueError(f\"Invalid role: {instruction['role']}. Role must be either 'user' or 'system'.\")\n",
    "    prompt.extend([\"<|start_header_id|>assistant<|end_header_id|>\\n\"])\n",
    "    return \"\".join(prompt)"
   ]
  },
  {
   "cell_type": "markdown",
   "id": "a0097cde-7a98-4e3e-a0dc-5f8c7c551c8f",
   "metadata": {},
   "source": [
    "The `execute_query` function will execute SQL queries, typically for retrieving data from a database, and format the results as a string for further processing or display. "
   ]
  },
  {
   "cell_type": "code",
   "execution_count": 14,
   "id": "9401ba7a-de43-410d-8015-a38a60f2b6e9",
   "metadata": {
    "tags": []
   },
   "outputs": [],
   "source": [
    "def execute_query(query: str) -> str:\n",
    "    \"\"\"Execute an SQL query on the database connection and return the results as a string.\n",
    "\n",
    "    Args:\n",
    "        query (str): SQL query to execute\n",
    "\n",
    "    Returns:\n",
    "        str: A formatted string containing the SQL results.\n",
    "    \"\"\"\n",
    "    # Connect to Athena DB\n",
    "    # Execute Query \n",
    "    responseExec = athenaClient.start_query_execution(\n",
    "        QueryString=query,\n",
    "        ResultConfiguration={\"OutputLocation\": RESULT_OUTPUT_LOCATION}\n",
    "    )\n",
    "    execID = responseExec[\"QueryExecutionId\"]\n",
    "\n",
    "    # Check if Query finished\n",
    "    state = \"RUNNING\"\n",
    "    max_execution = 5\n",
    "    while max_execution > 0 and state in [\"RUNNING\", \"QUEUED\"]:\n",
    "        max_execution -= 1\n",
    "        responseCheck = athenaClient.get_query_execution(QueryExecutionId=execID)\n",
    "        if (\n",
    "            \"QueryExecution\" in responseCheck\n",
    "            and \"Status\" in responseCheck[\"QueryExecution\"]\n",
    "            and \"State\" in responseCheck[\"QueryExecution\"][\"Status\"]\n",
    "        ):\n",
    "            state = responseCheck[\"QueryExecution\"][\"Status\"][\"State\"]\n",
    "            if state == \"SUCCEEDED\":\n",
    "                break\n",
    "\n",
    "        time.sleep(30)\n",
    "\n",
    "    # Get Query Results\n",
    "    responseResults = athenaClient.get_query_results(\n",
    "        QueryExecutionId=execID\n",
    "    )\n",
    "    result_rows = responseResults['ResultSet']['Rows']\n",
    "    \n",
    "    # Convert result to string with newline between rows\n",
    "    output_text = '\\n'.join([str(x) for x in result_rows])\n",
    "    return output_text"
   ]
  },
  {
   "cell_type": "markdown",
   "id": "44e5a4a4",
   "metadata": {},
   "source": [
    "Lets check the data in Amazon Athena Table. Here we are using a sample ETF Dataset"
   ]
  },
  {
   "cell_type": "code",
   "execution_count": 15,
   "id": "596e3027",
   "metadata": {
    "tags": []
   },
   "outputs": [
    {
     "name": "stdout",
     "output_type": "stream",
     "text": [
      "ETF Table data Sample:\n",
      "\n",
      "{'Data': [{'VarCharValue': 'isin'}, {'VarCharValue': 'wkn'}, {'VarCharValue': 'name'}, {'VarCharValue': 'fundprovider'}, {'VarCharValue': 'legalstructure'}, {'VarCharValue': 'quote'}, {'VarCharValue': 'quote52low'}, {'VarCharValue': 'quote52high'}, {'VarCharValue': 'ytdreturncur'}, {'VarCharValue': 'totalexpenseratio'}, {'VarCharValue': 'fiveyearvolatilitycur'}, {'VarCharValue': 'fiveyearreturnperriskcur'}, {'VarCharValue': 'yearvolatilitycur'}, {'VarCharValue': 'distributionpolicy'}, {'VarCharValue': 'fundcurrency'}, {'VarCharValue': 'yeardividendyield'}, {'VarCharValue': 'threemonthreturncur'}, {'VarCharValue': 'monthreturncur'}, {'VarCharValue': 'sixmonthreturncur'}, {'VarCharValue': 'inceptiondate'}, {'VarCharValue': 'threeyearvolatilitycur'}, {'VarCharValue': 'yearreturnperriskcur'}, {'VarCharValue': 'yearreturn2cur'}, {'VarCharValue': 'yearreturn4cur'}, {'VarCharValue': 'replicationmethod'}, {'VarCharValue': 'hassecuritieslending'}, {'VarCharValue': 'ticker'}, {'VarCharValue': 'yearreturncur'}, {'VarCharValue': 'threeyearreturnperriskcur'}, {'VarCharValue': 'domicilecountry'}, {'VarCharValue': 'threeyearreturncur'}, {'VarCharValue': 'valornumber'}, {'VarCharValue': 'currentdividendyield'}, {'VarCharValue': 'yearreturn3cur'}, {'VarCharValue': 'fiveyearreturncur'}, {'VarCharValue': 'weekreturncur'}, {'VarCharValue': 'yearreturn1cur'}, {'VarCharValue': 'quotemarket'}, {'VarCharValue': 'quotedate'}, {'VarCharValue': 'labels'}, {'VarCharValue': 'replicationstrategy'}, {'VarCharValue': 'fundstructure'}, {'VarCharValue': 'distributionfrequency'}, {'VarCharValue': 'currencyrisk'}, {'VarCharValue': 'fiscalyearend'}, {'VarCharValue': 'ucitscompliance'}, {'VarCharValue': 'revisioncompany'}, {'VarCharValue': 'indextype'}, {'VarCharValue': 'securitieslending'}, {'VarCharValue': 'top10holdings'}, {'VarCharValue': 'exposurecountry_netherlands'}, {'VarCharValue': 'exposurecountry_unitedkingdom'}, {'VarCharValue': 'exposurecountry_luxembourg'}, {'VarCharValue': 'exposurecountry_other'}, {'VarCharValue': 'exposuresector_technology'}, {'VarCharValue': 'exposuresector_consumerstaples'}, {'VarCharValue': 'exposuresector_industrials'}, {'VarCharValue': 'exposuresector_consumerdiscretionary'}, {'VarCharValue': 'exposuresector_other'}, {'VarCharValue': 'fundsizemillions'}, {'VarCharValue': 'exposurecountry_belgium'}, {'VarCharValue': 'exposurecountry_france'}, {'VarCharValue': 'exposuresector_financials'}, {'VarCharValue': 'exposuresector_basicmaterials'}, {'VarCharValue': 'exposuresector_realestate'}, {'VarCharValue': 'exposurecountry_austria'}, {'VarCharValue': 'exposuresector_utilities'}, {'VarCharValue': 'exposuresector_energy'}, {'VarCharValue': 'exposurecountry_serbia'}, {'VarCharValue': 'exposurecountry_romania'}, {'VarCharValue': 'exposuresector_healthcare'}, {'VarCharValue': 'exposurecountry_china'}, {'VarCharValue': 'exposurecountry_mexico'}, {'VarCharValue': 'exposurecountry_indonesia'}, {'VarCharValue': 'exposurecountry_saudiarabia'}, {'VarCharValue': 'exposurecountry_unitedarabemirates'}, {'VarCharValue': 'exposurecountry_malaysia'}, {'VarCharValue': 'exposurecountry_southkorea'}, {'VarCharValue': 'exposurecountry_brazil'}, {'VarCharValue': 'exposurecountry_israel'}, {'VarCharValue': 'exposurecountry_southafrica'}, {'VarCharValue': 'exposurecountry_qatar'}, {'VarCharValue': 'exposurecountry_uruguay'}, {'VarCharValue': 'exposurecountry_dominicanrepublic'}, {'VarCharValue': 'exposurecountry_italy'}, {'VarCharValue': 'exposurecountry_germany'}, {'VarCharValue': 'exposurecountry_spain'}, {'VarCharValue': 'exposurecountry_unitedstates'}, {'VarCharValue': 'exposuresector_telecommunication'}, {'VarCharValue': 'exposurecountry_japan'}, {'VarCharValue': 'exposurecountry_canada'}, {'VarCharValue': 'exposurecountry_australia'}, {'VarCharValue': 'exposurecountry_ireland'}, {'VarCharValue': 'exposurecountry_caymanislands'}, {'VarCharValue': 'exposurecountry_hongkong'}, {'VarCharValue': 'exposurecountry_bermuda'}, {'VarCharValue': 'exposurecountry_liberia'}, {'VarCharValue': 'exposurecountry_hungary'}, {'VarCharValue': 'exposurecountry_switzerland'}, {'VarCharValue': 'exposurecountry_singapore'}, {'VarCharValue': 'exposurecountry_taiwan'}, {'VarCharValue': 'exposurecountry_croatia'}, {'VarCharValue': 'exposurecountry_newzealand'}, {'VarCharValue': 'exposurecountry_india'}, {'VarCharValue': 'exposurecountry_norway'}, {'VarCharValue': 'exposurecountry_finland'}, {'VarCharValue': 'exposurecountry_denmark'}, {'VarCharValue': 'exposurecountry_sweden'}, {'VarCharValue': 'exposurecountry_country-gg'}, {'VarCharValue': 'exposurecountry_jersey'}, {'VarCharValue': 'exposurecountry_greece'}, {'VarCharValue': 'exposurecountry_chile'}, {'VarCharValue': 'exposurecountry_oman'}, {'VarCharValue': 'exposurecountry_philippines'}, {'VarCharValue': 'exposurecountry_ivorycoast'}, {'VarCharValue': 'exposurecountry_portugal'}, {'VarCharValue': 'exposurecountry_turkey'}, {'VarCharValue': 'exposurecountry_thailand'}, {'VarCharValue': 'exposurecountry_poland'}, {'VarCharValue': 'exposurecountry_argentina'}, {'VarCharValue': 'exposurecountry_macedonia'}, {'VarCharValue': 'exposurecountry_peru'}, {'VarCharValue': 'exposurecountry_russia'}, {'VarCharValue': 'exposurecountry_cyprus'}, {'VarCharValue': 'exposurecountry_colombia'}, {'VarCharValue': 'exposurecountry_czechrepublic'}, {'VarCharValue': 'exposurecountry_slovakia'}, {'VarCharValue': 'exposurecountry_slovenia'}, {'VarCharValue': 'exposurecountry_bulgaria'}]}\n",
      "{'Data': [{'VarCharValue': 'IE00B0M62Y33'}, {'VarCharValue': 'A0HGWF'}, {'VarCharValue': 'iShares AEX UCITS ETF'}, {'VarCharValue': 'iShares'}, {'VarCharValue': 'ETF'}, {'VarCharValue': '73.98'}, {'VarCharValue': '62.81'}, {'VarCharValue': '76.92'}, {'VarCharValue': '0.0541'}, {'VarCharValue': '0.003'}, {'VarCharValue': '0.187'}, {'VarCharValue': '0.46'}, {'VarCharValue': '0.1879'}, {'VarCharValue': 'Distributing'}, {'VarCharValue': 'EUR'}, {'VarCharValue': '0.02'}, {'VarCharValue': '0.0415'}, {'VarCharValue': '-0.0488'}, {'VarCharValue': '0.1006'}, {'VarCharValue': '11/18/05'}, {'VarCharValue': '0.1965'}, {'VarCharValue': '0.18'}, {'VarCharValue': '0.2989'}, {'VarCharValue': '0.2755'}, {'VarCharValue': 'Full replication'}, {'VarCharValue': 'Yes'}, {'VarCharValue': 'IUSJ'}, {'VarCharValue': '0.0336'}, {'VarCharValue': '1.07'}, {'VarCharValue': 'Ireland'}, {'VarCharValue': '0.7749'}, {'VarCharValue': '2308837'}, {'VarCharValue': '0.0198'}, {'VarCharValue': '0.0514'}, {'VarCharValue': '0.5113'}, {'VarCharValue': '-0.0037'}, {'VarCharValue': '-0.1178'}, {'VarCharValue': 'Last'}, {'VarCharValue': '3/21/23'}, {'VarCharValue': \"['AEX®',  'Equity',  'Netherlands']\"}, {'VarCharValue': 'Physical(Full replication)'}, {'VarCharValue': 'Open-ended Investment Company (OEIC)'}, {'VarCharValue': 'Quarterly'}, {'VarCharValue': 'Currency unhedged'}, {'VarCharValue': '28-Feb'}, {'VarCharValue': 'Yes'}, {'VarCharValue': 'Deloitte'}, {'VarCharValue': 'Total return index'}, {'VarCharValue': 'Yes'}, {'VarCharValue': \"['ASML HOLDING ORD',  'UNILEVER PLC',  'SHELL PLC',  'PROSUS NV ORD',  'RELX PLC',  'ING GRP. NV',  'ADYEN NV ORD',  'KONINKLIJKE AHOLD DELHAIZE N.V.',  'WOLTERS KLUWER N.V.',  'HEINEKEN NV']\"}, {'VarCharValue': '0.6241'}, {'VarCharValue': '0.3494'}, {'VarCharValue': '0.0167'}, {'VarCharValue': '0.0098'}, {'VarCharValue': '0.2394'}, {'VarCharValue': '0.2164'}, {'VarCharValue': '0.1289'}, {'VarCharValue': '0.0777'}, {'VarCharValue': '0.3376'}, {'VarCharValue': '587.0'}, {'VarCharValue': '0.0'}, {'VarCharValue': '0.0'}, {'VarCharValue': '0.0'}, {'VarCharValue': '0.0'}, {'VarCharValue': '0.0'}, {'VarCharValue': '0.0'}, {'VarCharValue': '0.0'}, {'VarCharValue': '0.0'}, {'VarCharValue': '0.0'}, {'VarCharValue': '0.0'}, {'VarCharValue': '0.0'}, {'VarCharValue': '0.0'}, {'VarCharValue': '0.0'}, {'VarCharValue': '0.0'}, {'VarCharValue': '0.0'}, {'VarCharValue': '0.0'}, {'VarCharValue': '0.0'}, {'VarCharValue': '0.0'}, {'VarCharValue': '0.0'}, {'VarCharValue': '0.0'}, {'VarCharValue': '0.0'}, {'VarCharValue': '0.0'}, {'VarCharValue': '0.0'}, {'VarCharValue': '0.0'}, {'VarCharValue': '0.0'}, {'VarCharValue': '0.0'}, {'VarCharValue': '0.0'}, {'VarCharValue': '0.0'}, {'VarCharValue': '0.0'}, {'VarCharValue': '0.0'}, {'VarCharValue': '0.0'}, {'VarCharValue': '0.0'}, {'VarCharValue': '0.0'}, {'VarCharValue': '0.0'}, {'VarCharValue': '0.0'}, {'VarCharValue': '0.0'}, {'VarCharValue': '0.0'}, {'VarCharValue': '0.0'}, {'VarCharValue': '0.0'}, {'VarCharValue': '0.0'}, {'VarCharValue': '0.0'}, {'VarCharValue': '0.0'}, {'VarCharValue': '0.0'}, {'VarCharValue': '0.0'}, {'VarCharValue': '0.0'}, {'VarCharValue': '0.0'}, {'VarCharValue': '0.0'}, {'VarCharValue': '0.0'}, {'VarCharValue': '0.0'}, {'VarCharValue': '0.0'}, {'VarCharValue': '0.0'}, {'VarCharValue': '0.0'}, {'VarCharValue': '0.0'}, {'VarCharValue': '0.0'}, {'VarCharValue': '0.0'}, {'VarCharValue': '0.0'}, {'VarCharValue': '0.0'}, {'VarCharValue': '0.0'}, {'VarCharValue': '0.0'}, {'VarCharValue': '0.0'}, {'VarCharValue': '0.0'}, {'VarCharValue': '0.0'}, {'VarCharValue': '0.0'}, {'VarCharValue': '0.0'}, {'VarCharValue': '0.0'}, {'VarCharValue': '0.0'}, {'VarCharValue': '0.0'}, {'VarCharValue': '0.0'}, {'VarCharValue': '0.0'}]}\n"
     ]
    }
   ],
   "source": [
    "\n",
    "sql = \"\"\"SELECT *\n",
    "FROM etftable\n",
    "LIMIT 1;\"\"\"\n",
    "\n",
    "# Execute SQL query\n",
    "sql_results = execute_query(sql)\n",
    "\n",
    "# SQL output\n",
    "print(\"ETF Table data Sample:\\n\")\n",
    "\n",
    "print(sql_results)"
   ]
  },
  {
   "cell_type": "markdown",
   "id": "eddaedc7-f395-4d92-9809-8f7b71baa42f",
   "metadata": {},
   "source": [
    "The `sagemaker_chat_completion` function uses the SageMaker Endpoint to invoke the LLMs. The response from the LLM is extracted and returned as text."
   ]
  },
  {
   "cell_type": "code",
   "execution_count": 16,
   "id": "62b4863f-ff81-4f02-8c25-7f0d50f99d6e",
   "metadata": {
    "tags": []
   },
   "outputs": [],
   "source": [
    "def sagemaker_chat_completion(\n",
    "    prompt: str,\n",
    "    max_gen_len: int = 512,\n",
    "    temperature: float = 0.5,\n",
    "    top_p: float = 0.999\n",
    ") -> str:\n",
    "    \"\"\"\n",
    "    Generates a chat completion from a prompt using the llama3 model via Amazon SageMaker JumpStart.\n",
    "\n",
    "    Args:\n",
    "        prompt (str): The prompt text to generate completions for.\n",
    "        max_gen_len (int, optional): The maximum length of the completion.\n",
    "        temperature (float, optional): Sampling temperature for the model.\n",
    "        top_p (float, optional): Top p sampling ratio for the model.\n",
    "\n",
    "    Returns:\n",
    "        str: The generated text completion.\n",
    "    \"\"\"\n",
    "    body = {\n",
    "        \"inputs\": prompt,\n",
    "        \"parameters\": {\n",
    "            \"max_new_tokens\": max_gen_len,\n",
    "            \"temperature\": temperature,\n",
    "            \"top_p\": top_p,\n",
    "            \"stop\": [\"<|eot_id|>\"]\n",
    "        }\n",
    "    }\n",
    "\n",
    "    # Call the model API to generate the completion\n",
    "    response = llm_predictor.predict(body)\n",
    "    completion = response.get('generated_text', '')\n",
    "\n",
    "    return completion.strip()"
   ]
  },
  {
   "cell_type": "markdown",
   "id": "e6babb4b-812d-415f-b666-b1f69fc28706",
   "metadata": {},
   "source": [
    "The `bedrock_chat_completion` function uses the Bedrock client to invoke the LLMs. The response from the LLM is extracted and returned as text."
   ]
  },
  {
   "cell_type": "code",
   "execution_count": 17,
   "id": "3c11b382-cf2d-4df9-971c-dc92c9a13043",
   "metadata": {
    "tags": []
   },
   "outputs": [],
   "source": [
    "def bedrock_chat_completion(\n",
    "    model_id: str,\n",
    "    prompt: str,\n",
    "    max_gen_len: int = 1024,\n",
    "    temperature: float = 0.5,\n",
    "    top_p: float = 0.999\n",
    ") -> str:\n",
    "    \"\"\"\n",
    "    Generates a chat completion from a prompt using the llama3 model via Amazon Bedrock.\n",
    "\n",
    "    Args:\n",
    "        model_id (str): The ID of the llama3 model to use for completion.\n",
    "        prompt (str): The prompt text to generate completions for.\n",
    "        max_gen_len (int, optional): The maximum length of the completion.\n",
    "        temperature (float, optional): Sampling temperature for the model.\n",
    "        top_p (float, optional): Top p sampling ratio for the model.\n",
    "\n",
    "    Returns:\n",
    "        str: The generated text completion.\n",
    "    \"\"\"\n",
    "    body = {\n",
    "        \"prompt\": prompt,\n",
    "        \"max_gen_len\": max_gen_len,\n",
    "        \"temperature\": temperature,\n",
    "        \"top_p\": top_p,\n",
    "    }\n",
    "\n",
    "    accept = \"application/json\"\n",
    "    contentType = \"application/json\"\n",
    "\n",
    "    # Convert the body dictionary to JSON string and encode it as bytes\n",
    "    body_json = json.dumps(body)\n",
    "    body_bytes = body_json.encode('utf-8')\n",
    "\n",
    "    # Call the model API to generate the completion\n",
    "    response = bedrock_client.invoke_model(\n",
    "        body=body_bytes, modelId=model_id, accept=accept, contentType=contentType\n",
    "    )\n",
    "    response_body = response[\"body\"].read()\n",
    "    response_body = json.loads(response_body)\n",
    "    completion = response_body.get(\"generation\", \"\")\n",
    "\n",
    "    return completion.strip()"
   ]
  },
  {
   "cell_type": "markdown",
   "id": "6f997f36-a08b-4189-ba98-a410d9063e41",
   "metadata": {},
   "source": [
    "The Function `get_llm_sql_analysis` generates and executes an SQL query for a given question, and returns a comprehensive analyzes based on the sql query results."
   ]
  },
  {
   "cell_type": "code",
   "execution_count": 18,
   "id": "f3e8610a-69e9-452b-a3cc-42f6e3129709",
   "metadata": {
    "tags": []
   },
   "outputs": [],
   "source": [
    "def get_llm_sql_analysis(question: str, sql_sys_prompt: str, qna_sys_prompt: str) -> str:\n",
    "    \"\"\"\n",
    "    Generates an SQL query based on the given question, executes it, and returns an analysis of the results using Llama 3.\n",
    "\n",
    "    Args:\n",
    "        question (str): The input question for which an SQL query needs to be generated.\n",
    "        sql_sys_prompt (str): The prompt to be used for generating the SQL query using Llama 3.\n",
    "        qna_sys_prompt (str): The prompt to be used for analyzing the SQL query results using Llama 3.\n",
    "\n",
    "    Returns:\n",
    "        str: The analysis of the SQL query results provided by the language model.\n",
    "    \"\"\"\n",
    "    if llm_selected_service == 'Amazon SageMaker':\n",
    "        # Generates SQL query\n",
    "        completion = sagemaker_chat_completion(\n",
    "            prompt=sql_sys_prompt\n",
    "        )\n",
    "    else:\n",
    "        # Generates SQL query\n",
    "        completion = bedrock_chat_completion(\n",
    "            model_id=DEFULT_LLM_MODEL_ID,\n",
    "            prompt=sql_sys_prompt\n",
    "        )\n",
    "\n",
    "    try:\n",
    "        # Extract the SQL query\n",
    "        pattern = r\"<sql>(.*)</sql>\"\n",
    "        llm_sql_query = re.search(pattern, completion, re.DOTALL).group(1)\n",
    "        print(f\"LLM SQL Query: \\n{llm_sql_query}\")\n",
    "\n",
    "        # Execute SQL query\n",
    "        sql_results = execute_query(llm_sql_query)\n",
    "\n",
    "        if llm_selected_service == 'Amazon SageMaker':\n",
    "            # Generates SQL analysis\n",
    "            llm_sql_analysis = sagemaker_chat_completion(\n",
    "                prompt=qna_sys_prompt.format(query_results=sql_results, question=question)\n",
    "            )\n",
    "        else:\n",
    "            # Generates SQL analysis\n",
    "            llm_sql_analysis = bedrock_chat_completion(\n",
    "                model_id=DEFULT_LLM_MODEL_ID,\n",
    "                prompt=qna_sys_prompt.format(query_results=sql_results, question=question)\n",
    "            )\n",
    "\n",
    "        print(f\"LLM SQL Analysis: \\n{llm_sql_analysis}\")\n",
    "        return llm_sql_analysis\n",
    "    except Exception as e:\n",
    "        print(e)\n",
    "        return e"
   ]
  },
  {
   "cell_type": "markdown",
   "id": "c28e4c5a",
   "metadata": {},
   "source": [
    "### Create a one-shot Prompt\n",
    "Here, we design our prompt template that will account for our question and answer, and formatted correctly for use with Llama 3 models."
   ]
  },
  {
   "cell_type": "markdown",
   "id": "716ea8a0-61e8-4eee-a14a-71e9d6ec303d",
   "metadata": {},
   "source": [
    "First, we create a `system prompt` containing two parts:\n",
    "\n",
    "1. `table_schema`. This is a description of the structure of the database table, including the name of the table, the names of the columns within each table, and the data types of each column. This information helps Llama 3 to understand the organization and contents of the table.\n",
    "\n",
    "2. `question`. This is the specific request or information that the user wants to obtain from the table.\n",
    "\n",
    "By including both the table schema and the user's question in the system prompt, we provide Llama 3 model a complete understanding of the table structure and the user's desired output."
   ]
  },
  {
   "cell_type": "code",
   "execution_count": 19,
   "id": "b9528d11-a02e-436d-a06c-b40639dce4df",
   "metadata": {
    "tags": []
   },
   "outputs": [],
   "source": [
    "instructions = [\n",
    "    {\n",
    "        \"role\": \"system\",\n",
    "        \"content\": \n",
    "        \"\"\"You are a ANSI SQL query expert whose output is a valid sql query.\n",
    "\n",
    "Only use the following tables:\n",
    "\n",
    "It has the following schema:\n",
    "<table_schema>\n",
    "{table_schema}\n",
    "<table_schema>\n",
    "\n",
    "Please construct a valid ANSI SQL statement to answer the following the question, return only the sql query in between <sql></sql>.\n",
    "\"\"\"\n",
    "    },\n",
    "    {\n",
    "        \"role\": \"user\",\n",
    "        \"content\": \"{question}\"\n",
    "    }\n",
    "]\n",
    "tmp_sql_sys_prompt = format_instructions(instructions)"
   ]
  },
  {
   "cell_type": "markdown",
   "id": "7feb4eb9-d15c-4453-8053-4d80813794c0",
   "metadata": {},
   "source": [
    "Next, we create a new `system prompt` containing two parts:\n",
    "\n",
    "1. `query_results` represents the SQL query results after executing the prompt `tmp_sql_sys_prompt`. This is the raw data that Llama 3 model will use to generate its analysis.\n",
    "\n",
    "2. `question`. This specifies the type of analysis or insight that the user wants Llama 3 model to provide based on the SQL query results.\n",
    "\n",
    "By combining the SQL query results and the user's question into a single system prompt, we provide Llama 3 model all the information it needs to understand the context and provide a comprehensive analysis tailored to the user's request."
   ]
  },
  {
   "cell_type": "code",
   "execution_count": 20,
   "id": "62c5e5b2-13b1-4f70-9484-56b2ef618cdf",
   "metadata": {
    "tags": []
   },
   "outputs": [],
   "source": [
    "instructions = [\n",
    "    {\n",
    "        \"role\": \"user\",\n",
    "        \"content\": \"\"\"Given the following SQL query results:\n",
    "{query_results}\n",
    "\n",
    "And the original question:\n",
    "{question}\n",
    "\n",
    "Please provide an analysis and interpretation of the results to answer the original question.\n",
    "\"\"\"\n",
    "    }\n",
    "]\n",
    "QNA_SYS_PROMPT = format_instructions(instructions)"
   ]
  },
  {
   "cell_type": "markdown",
   "id": "5de41022-e8fa-423e-a35b-92537e8dfd21",
   "metadata": {},
   "source": [
    "### Execute One-Shot Prompts\n",
    "The following cells will demonstrate different questions asked in natural language and the SQL generated by the LLM. The output is contained between the `<sql>` and `</sql>` tags"
   ]
  },
  {
   "cell_type": "code",
   "execution_count": 21,
   "id": "6617123b-78ea-4631-9871-30c01c7a888a",
   "metadata": {
    "tags": []
   },
   "outputs": [
    {
     "name": "stdout",
     "output_type": "stream",
     "text": [
      "LLM SQL Query: \n",
      "\n",
      "SELECT name\n",
      "FROM etftable\n",
      "WHERE exposurecountry_unitedstates > 0\n",
      "LIMIT 100;\n",
      "\n",
      "LLM SQL Analysis: \n",
      "After analyzing the provided SQL query results, I can conclude that the list of ETFs/ETNs does not primarily focus on US markets. Instead, it appears to be a comprehensive list of bond ETFs/ETNs with a global scope, covering various regions, currencies, and bond types.\n",
      "\n",
      "Here are some key observations:\n",
      "\n",
      "1. **Global coverage**: The list includes ETFs/ETNs tracking bond markets in Europe (e.g., Eurozone, UK), the US, and globally diversified indices.\n",
      "2. **Bond types**: The list covers a range of bond types, including corporate bonds, government bonds, high-yield bonds, and green bonds.\n",
      "3. **Currency exposure**: ETFs/ETNs are denominated in various currencies, such as EUR, USD, and GBP, with some offering hedged exposure to mitigate currency risks.\n",
      "4. **ESG and SRI focus**: A significant portion of the list consists of ETFs/ETNs with an Environmental, Social, and Governance (ESG) or Socially Responsible Investing (SRI) focus, which suggests a emphasis on sustainable investing.\n",
      "\n",
      "To answer the original question, I can identify a subset of ETFs/ETNs from the list that have exposure to US markets:\n",
      "\n",
      "**US-focused ETFs/ETNs:**\n",
      "\n",
      "1. iShares USD Corporate Bond 0-3yr ESG UCITS ETF USD (Dist)\n",
      "2. iShares USD Corporate Bond ESG 0-3yr UCITS ETF EUR Hedged (Acc)\n",
      "3. Lyxor ESG USD High Yield (DR) UCITS ETF - Dist\n",
      "4. iShares USD High Yield Corporate Bond ESG UCITS ETF USD (Acc)\n",
      "5. iShares USD High Yield Corporate Bond ESG UCITS ETF USD (Dist)\n",
      "6. Amundi Index US Corporate SRI UCITS ETF DR (C)\n",
      "7. Amundi Index US Corporate SRI UCITS ETF DR Hedged EUR (D)\n",
      "8. iShares USD Corporate Bond ESG UCITS ETF (Acc)\n",
      "9. iShares USD Corporate Bond ESG UCITS ETF (Dist)\n",
      "10. Xtrackers ESG USD High Yield Corporate Bond UCITS ETF 1C\n",
      "11. UBS ETF (LU) Bloomberg MSCI US Liquid Corporates Sustainable UCITS ETF (USD) A-dis\n",
      "12. Xtrackers USD Corporate Green Bond UCITS ETF 2C Acc USD\n",
      "\n",
      "Please note that this subset is not exhaustive, and there may be other ETFs/ETNs in the original list that have some exposure to US markets. Additionally, investors should carefully evaluate the investment objectives, risks, and characteristics of each ETF/ETN before making any investment decisions.\n"
     ]
    }
   ],
   "source": [
    "# Business question\n",
    "question = \"Please provide a list of about 100 ETFs or ETNs names with exposure to US markets\"\n",
    "\n",
    "# Generate a prompt to get the LLM to provide an SQL query\n",
    "SQL_SYS_PROMPT = PromptTemplate.from_template(tmp_sql_sys_prompt).format(\n",
    "    question=question,\n",
    "    table_schema=table_schema_etf\n",
    ")\n",
    "\n",
    "results = get_llm_sql_analysis(\n",
    "    question=question,\n",
    "    sql_sys_prompt=SQL_SYS_PROMPT,\n",
    "    qna_sys_prompt=QNA_SYS_PROMPT\n",
    ")"
   ]
  },
  {
   "cell_type": "code",
   "execution_count": 22,
   "id": "abce7627-60c2-432b-af9c-beabbe86be54",
   "metadata": {
    "tags": []
   },
   "outputs": [
    {
     "name": "stdout",
     "output_type": "stream",
     "text": [
      "LLM SQL Query: \n",
      "\n",
      "SELECT *\n",
      "FROM etftable\n",
      "WHERE exposurecountry_russia > 0;\n",
      "\n",
      "LLM SQL Analysis: \n",
      "Based on the provided SQL query results, we can analyze and interpret the data to answer the original question: \"Which funds have exposure to Russian markets?\"\n",
      "\n",
      "**Observations:**\n",
      "\n",
      "1. The results contain two datasets, each with a list of dictionaries, where each dictionary represents a fund with its corresponding attributes.\n",
      "2. The attributes include various fund characteristics, such as name, provider, structure, currency, and exposure to different markets, among others.\n",
      "3. The exposure to Russian markets is indicated by the presence of \"Russia\" or \"Russian\" in the `exposuresector` or `exposurecountry` attributes.\n",
      "\n",
      "**Analysis:**\n",
      "\n",
      "After examining the data, we can identify the funds with exposure to Russian markets:\n",
      "\n",
      "1. **HSBC MSCI Russia Capped UCITS ETF USD**: This fund has a clear exposure to Russian markets, as indicated by its name and the presence of \"Russia\" in the `exposurecountry` attribute.\n",
      "2. No other funds in the provided datasets have explicit exposure to Russian markets, based on the available attributes.\n",
      "\n",
      "**Interpretation:**\n",
      "\n",
      "Based on the analysis, we can conclude that only one fund, **HSBC MSCI Russia Capped UCITS ETF USD**, has a direct exposure to Russian markets. This fund is likely a Russia-focused ETF, which tracks a Russian market index, such as the MSCI Russia Index.\n",
      "\n",
      "If you need to identify funds with indirect exposure to Russian markets, you may want to consider additional attributes, such as the fund's holdings or sector allocations, which are not provided in the given datasets.\n"
     ]
    }
   ],
   "source": [
    "# Business question\n",
    "question = \"Which funds have exposure to Russian markets?\"\n",
    "\n",
    "# Generate a prompt to get the LLM to provide an SQL query\n",
    "SQL_SYS_PROMPT = PromptTemplate.from_template(tmp_sql_sys_prompt).format(\n",
    "    question=question,\n",
    "    table_schema=table_schema_etf\n",
    ")\n",
    "\n",
    "results = get_llm_sql_analysis(\n",
    "    question=question,\n",
    "    sql_sys_prompt=SQL_SYS_PROMPT,\n",
    "    qna_sys_prompt=QNA_SYS_PROMPT\n",
    ")"
   ]
  },
  {
   "cell_type": "markdown",
   "id": "f93e6a8d",
   "metadata": {},
   "source": [
    "###### **The Invocation Latency for the above call is about 8.4 seconds**"
   ]
  },
  {
   "cell_type": "code",
   "execution_count": 23,
   "id": "23f390e9-a813-4c93-986c-af0803ff6309",
   "metadata": {
    "tags": []
   },
   "outputs": [
    {
     "name": "stdout",
     "output_type": "stream",
     "text": [
      "LLM SQL Query: \n",
      "\n",
      "SELECT \n",
      "  name, \n",
      "  exposurecountry_india\n",
      "FROM \n",
      "  etftable\n",
      "ORDER BY \n",
      "  exposurecountry_india DESC\n",
      "LIMIT 5;\n",
      "\n",
      "LLM SQL Analysis: \n",
      "Based on the provided SQL query results, we can analyze and interpret the data to answer the original question: \"Which 5 funds have the most exposure to Indian markets?\"\n",
      "\n",
      "The results appear to be a list of funds with their corresponding exposure to Indian markets. The exposure values are represented as decimal numbers, likely indicating the percentage of the fund's portfolio invested in Indian markets.\n",
      "\n",
      "Here's a summary of the results:\n",
      "\n",
      "1. **Franklin FTSE India UCITS ETF**: 0.9822 (approximately 98.22% exposure to Indian markets)\n",
      "2. **iShares MSCI India UCITS ETF USD (Acc)**: 0.9801 (approximately 98.01% exposure to Indian markets)\n",
      "3. **L&G India INR Government Bond UCITS ETF Dist**: 0.6537 (approximately 65.37% exposure to Indian markets)\n",
      "4. **iShares MSCI Emerging Markets Small Cap UCITS ETF**: 0.2126 (approximately 21.26% exposure to Indian markets)\n",
      "5. **SPDR MSCI Emerging Markets Small Cap UCITS ETF**: 0.2137 (approximately 21.37% exposure to Indian markets)\n",
      "\n",
      "Based on these results, the top 5 funds with the most exposure to Indian markets are:\n",
      "\n",
      "1. Franklin FTSE India UCITS ETF\n",
      "2. iShares MSCI India UCITS ETF USD (Acc)\n",
      "3. L&G India INR Government Bond UCITS ETF Dist\n",
      "4. SPDR MSCI Emerging Markets Small Cap UCITS ETF\n",
      "5. iShares MSCI Emerging Markets Small Cap UCITS ETF\n",
      "\n",
      "These funds have the highest percentage of their portfolios invested in Indian markets, with the top two funds having nearly 98% exposure. The third fund, L&G India INR Government Bond UCITS ETF Dist, has a significant exposure of around 65%. The last two funds, SPDR MSCI Emerging Markets Small Cap UCITS ETF and iShares MSCI Emerging Markets Small Cap UCITS ETF, have relatively lower exposure to Indian markets, but still make it to the top 5 list.\n"
     ]
    }
   ],
   "source": [
    "# Business question\n",
    "question = \"As a financial analyst Which 5 funds have the most exposure to Indian markets\"\n",
    "\n",
    "# Generate a prompt to get the LLM to provide an SQL query\n",
    "SQL_SYS_PROMPT = PromptTemplate.from_template(tmp_sql_sys_prompt).format(\n",
    "    question=question,\n",
    "    table_schema=table_schema_etf\n",
    ")\n",
    "\n",
    "results = get_llm_sql_analysis(\n",
    "    question=question,\n",
    "    sql_sys_prompt=SQL_SYS_PROMPT,\n",
    "    qna_sys_prompt=QNA_SYS_PROMPT\n",
    ")"
   ]
  },
  {
   "cell_type": "markdown",
   "id": "d0cce565",
   "metadata": {},
   "source": [
    "###### **The Invocation Latency for the above call is about 5.8 seconds**"
   ]
  },
  {
   "cell_type": "markdown",
   "id": "2c749acb",
   "metadata": {},
   "source": [
    "### More Complex business question"
   ]
  },
  {
   "cell_type": "markdown",
   "id": "8c01b50c",
   "metadata": {},
   "source": [
    "Following questions require the Large Language model to understand industry terms and concepts (example Exchange Traded Funds or ETFs)"
   ]
  },
  {
   "cell_type": "code",
   "execution_count": 24,
   "id": "604e901e-78b0-431d-b384-48e48c4fa145",
   "metadata": {
    "tags": []
   },
   "outputs": [
    {
     "name": "stdout",
     "output_type": "stream",
     "text": [
      "LLM SQL Query: \n",
      "\n",
      "SELECT *\n",
      "FROM etftable\n",
      "ORDER BY totalexpenseratio ASC\n",
      "LIMIT 5;\n",
      "\n",
      "LLM SQL Analysis: \n",
      "Based on the provided data, I will analyze and interpret the results to answer the original question: \"Which funds are the 5 least expensive?\"\n",
      "\n",
      "**Methodology**\n",
      "\n",
      "To determine the 5 least expensive funds, I will examine the `totalexpenseratio` column, which represents the total expense ratio of each fund. A lower total expense ratio indicates a less expensive fund.\n",
      "\n",
      "**Results**\n",
      "\n",
      "After analyzing the data, I have identified the 5 least expensive funds based on their total expense ratios:\n",
      "\n",
      "1. **CoinShares Physical Staked Algorand** (GB00BNRRF659) - Total Expense Ratio: 0.34\n",
      "2. **CoinShares Physical Staked Cosmos** (GB00BNRRF980) - Total Expense Ratio: 0.3528\n",
      "3. **boerse.de Gold ETC** (DE000TMG0LD6) - Total Expense Ratio: 0.0704\n",
      "4. **CoinShares Physical Ethereum** (GB00BLD4ZM24) - Total Expense Ratio: 0.4726\n",
      "5. **CoinShares Physical Staked Cardano** (GB00BNRRF659) - Total Expense Ratio: 0.4348\n",
      "\n",
      "**Interpretation**\n",
      "\n",
      "The 5 least expensive funds are all physically backed exchange-traded commodities (ETCs) or exchange-traded notes (ETNs) offered by CoinShares and boerse.de. These funds have relatively low total expense ratios, ranging from 0.0704 to 0.4726.\n",
      "\n",
      "The CoinShares Physical Staked Algorand and CoinShares Physical Staked Cosmos funds are the two least expensive options, with total expense ratios of 0.34 and 0.3528, respectively. These funds are both cryptocurrency-based ETCs, which may appeal to investors seeking exposure to the cryptocurrency market at a relatively low cost.\n",
      "\n",
      "The boerse.de Gold ETC, with a total expense ratio of 0.0704, is the third least expensive fund. This fund is a physically backed gold ETC, which may appeal to investors seeking a low-cost way to invest in gold.\n",
      "\n",
      "The remaining two funds, CoinShares Physical Ethereum and CoinShares Physical Staked Cardano, have slightly higher total expense ratios, but are still relatively inexpensive compared to other funds in the dataset.\n",
      "\n",
      "**Conclusion**\n",
      "\n",
      "Based on the analysis, the 5 least expensive funds are all physically backed ETCs or ETNs offered by CoinShares and boerse.de. These funds offer investors a relatively low-cost way to invest in various assets, including cryptocurrencies and gold.\n"
     ]
    }
   ],
   "source": [
    "# Business question\n",
    "question = \"Which funds are the 5 least expensive\"\n",
    "\n",
    "# Generate a prompt to get the LLM to provide an SQL query\n",
    "SQL_SYS_PROMPT = PromptTemplate.from_template(tmp_sql_sys_prompt).format(\n",
    "    question=question,\n",
    "    table_schema=table_schema_etf\n",
    ")\n",
    "\n",
    "results = get_llm_sql_analysis(\n",
    "    question=question,\n",
    "    sql_sys_prompt=SQL_SYS_PROMPT,\n",
    "    qna_sys_prompt=QNA_SYS_PROMPT\n",
    ")"
   ]
  },
  {
   "cell_type": "markdown",
   "id": "7a37ae53",
   "metadata": {
    "tags": []
   },
   "source": [
    "#### **The model is NOT using the right column \"totalexpenseratio\" (although the SQL generated uses the right column, but SQL result analysis is not correct and the expense ratio numbers are made up - not actual in query result)**"
   ]
  },
  {
   "cell_type": "markdown",
   "id": "72f4af5a",
   "metadata": {},
   "source": [
    "![ five least expensive funds using standard text-to-sql ](five-least-exp-standard.png)"
   ]
  },
  {
   "cell_type": "code",
   "execution_count": 25,
   "id": "88f12751-37e2-42c8-86d1-28d22cd9428e",
   "metadata": {
    "tags": []
   },
   "outputs": [
    {
     "name": "stdout",
     "output_type": "stream",
     "text": [
      "LLM SQL Query: \n",
      "\n",
      "SELECT *\n",
      "FROM etftable\n",
      "ORDER BY totalexpenseratio DESC\n",
      "LIMIT 5;\n",
      "\n",
      "LLM SQL Analysis: \n",
      "After analyzing the provided data, I found that the data contains information about various funds, including their names, ISIN codes, prices, and other characteristics.\n",
      "\n",
      "To answer the original question, \"Show the top 5 most expensive funds,\" I will extract the relevant information from the data and provide an analysis and interpretation of the results.\n",
      "\n",
      "**Extracting relevant information**\n",
      "\n",
      "From the data, I extracted the fund names and their corresponding prices. Here are the top 5 most expensive funds based on their prices:\n",
      "\n",
      "**Top 5 most expensive funds**\n",
      "\n",
      "1. **21Shares Binance BNB ETP** - Price: 30.44\n",
      "2. **21Shares Avalanche ETP** - Price: 18.05\n",
      "3. **21Shares Algorand ETP** - Price: 9.68\n",
      "4. **21Shares Cardano ETP** - Price: 22.36\n",
      "5. **21Shares Bitcoin Cash ETP** - Price: 15.67\n",
      "\n",
      "**Analysis and interpretation**\n",
      "\n",
      "The top 5 most expensive funds are all cryptocurrency-related funds offered by 21Shares, a Swiss-based fintech company. This suggests that investors are willing to pay a premium for exposure to cryptocurrencies, which are known for their volatility and potential for high returns.\n",
      "\n",
      "The prices of these funds are likely influenced by the underlying cryptocurrency prices, which can fluctuate rapidly due to market sentiment, regulatory changes, and other factors. The prices also reflect the fees and expenses associated with investing in these funds.\n",
      "\n",
      "It's interesting to note that the prices of these funds are not directly comparable, as they represent different cryptocurrencies with varying market capitalizations and liquidity profiles. However, this ranking provides a general idea of the relative expensiveness of these funds.\n",
      "\n",
      "Investors considering these funds should carefully evaluate their investment objectives, risk tolerance, and overall portfolio composition before making a decision. It's essential to understand the underlying risks and potential returns associated with investing in cryptocurrency-related funds.\n"
     ]
    }
   ],
   "source": [
    "# Business question\n",
    "question = \"Show the top 5 most expensive funds\"\n",
    "\n",
    "# Generate a prompt to get the LLM to provide an SQL query\n",
    "SQL_SYS_PROMPT = PromptTemplate.from_template(tmp_sql_sys_prompt).format(\n",
    "    question=question,\n",
    "    table_schema=table_schema_etf\n",
    ")\n",
    "\n",
    "results = get_llm_sql_analysis(\n",
    "    question=question,\n",
    "    sql_sys_prompt=SQL_SYS_PROMPT,\n",
    "    qna_sys_prompt=QNA_SYS_PROMPT\n",
    ")"
   ]
  },
  {
   "cell_type": "markdown",
   "id": "2f05329f",
   "metadata": {},
   "source": [
    "##### **The above analysis is using the relevant column of expense ration from the database, however, the Analysis output from model can be improved (model is overtly focused on the expense ration column values being same as this is already filtered output using SQL query)**"
   ]
  },
  {
   "cell_type": "markdown",
   "id": "610b765b",
   "metadata": {},
   "source": [
    "Lets Try additional prompting"
   ]
  },
  {
   "cell_type": "code",
   "execution_count": 26,
   "id": "b1ed4d34-1870-4a75-8402-0abf5154fe0a",
   "metadata": {
    "tags": []
   },
   "outputs": [
    {
     "name": "stdout",
     "output_type": "stream",
     "text": [
      "LLM SQL Query: \n",
      "\n",
      "SELECT \n",
      "    name, \n",
      "    fundprovider, \n",
      "    totalexpenseratio\n",
      "FROM \n",
      "    etftable\n",
      "ORDER BY \n",
      "    totalexpenseratio DESC\n",
      "LIMIT 5;\n",
      "\n",
      "LLM SQL Analysis: \n",
      "Based on the provided SQL query results, we can analyze and interpret the data to answer the original question: \"Show the top 5 most expensive funds using total expense ratio\".\n",
      "\n",
      "From the results, we can see that each row represents a fund, and the columns represent the fund's name, fund provider, and total expense ratio, respectively.\n",
      "\n",
      "After examining the data, we can conclude that all the funds have the same total expense ratio, which is 0.025. This means that there is no variation in the total expense ratio among the funds, and therefore, we cannot identify a top 5 most expensive funds based on this criterion.\n",
      "\n",
      "In other words, all the funds have the same expense ratio, which is 0.025, making them equally \"expensive\" or \"inexpensive\" in terms of total expense ratio.\n",
      "\n",
      "If we were to answer the original question, we would have to say that there is no top 5 most expensive funds, as all funds have the same expense ratio. Alternatively, we could say that all funds are equally ranked in terms of expense ratio, with no fund being more expensive than the others.\n"
     ]
    }
   ],
   "source": [
    "# Business question\n",
    "question = \"sing expenseShow the top 5 most expensive funds using total expense ratio\"\n",
    "\n",
    "# Generate a prompt to get the LLM to provide an SQL query\n",
    "SQL_SYS_PROMPT = PromptTemplate.from_template(tmp_sql_sys_prompt).format(\n",
    "    question=question,\n",
    "    table_schema=table_schema_etf\n",
    ")\n",
    "\n",
    "results = get_llm_sql_analysis(\n",
    "    question=question,\n",
    "    sql_sys_prompt=SQL_SYS_PROMPT,\n",
    "    qna_sys_prompt=QNA_SYS_PROMPT\n",
    ")"
   ]
  },
  {
   "cell_type": "markdown",
   "id": "b2046fd3",
   "metadata": {},
   "source": [
    "##### **Same results as previous output - The above analysis is using the relevant column of expense ration from the database, however, the Analysis output from model can be improved (model is overtly focused on the expense ration column values being same as this is already filtered output using SQL query)**"
   ]
  },
  {
   "cell_type": "markdown",
   "id": "3693ab9f",
   "metadata": {},
   "source": [
    "#### Lets try some [Generative Tabular Learning (GTL)](https://arxiv.org/pdf/2310.07338) techniques which will help the model understand industry knowledge"
   ]
  },
  {
   "cell_type": "code",
   "execution_count": 27,
   "id": "46af92fb",
   "metadata": {
    "tags": []
   },
   "outputs": [],
   "source": [
    "instructions = [\n",
    "    {\n",
    "        \"role\": \"user\",\n",
    "        \"content\": \"\"\"Given the following SQL query results:\n",
    "{query_results}\n",
    "\n",
    "And the original question:\n",
    "{question}\n",
    "\n",
    "You are an expert in Exchange-Traded Funds or ETFs and Exchange-Traded Notes or ETNs .\n",
    "Based on the features of the funds or notes, please predict how expensive the funds are for investors.\n",
    "I will supply multiple instances with features and the corresponding label for reference.\n",
    "Please refer to the table below for detailed descriptions of the features and label:\n",
    "— feature description —\n",
    "Features:\n",
    "isin: International Securities Identification Number\n",
    "wkn: Wertpapierkennnummer or German securities identification number\n",
    "name: ETF Name\n",
    "fundprovider: Financial Company providing the ETF\n",
    "legalstructure: Exchange Traded Fund (ETF) or Exchange Traded Notes (ETN)\n",
    "totalexpenseratio: An expense ratio is the cost of owning an ETF or ETN, the management fee paid to the fund company for the benefit of owning the fund, \n",
    "paid annually and measured as a percent of your investment in the fund. 0.30 percent means you’ll pay $30 per year for every $10,000 you have invested in the fund.\n",
    "— label description —\n",
    "Expensive: Whether the fund is expensive for investors or not. 0 means not expensive, 1 means expensive.\n",
    "— data —\n",
    "|isin|wkn|name|fundprovider|legalstructure|totalexpenseratio|Expensive|\n",
    "|GB00BNRRF659|A3GVCX|CoinShares Physical Staked Cardano|CoinShares|ETN|0.0|0|\n",
    "|BGPLWIG04173|A2JAHA|Expat Poland WIG20 UCITS ETF|expatcapital|ETF|0.0138|0|\n",
    "|CH0445689208|A2TT3D|21Shares Crypto Basket Index ETP|21Shares|ETN|0.025|1|\n",
    "|CH1114873776|A3GSS0|21Shares Solana ETP|21Shares|ETN|0.025|1|\n",
    "|GB00BNRRF105|A3GY74|CoinShares Physical Staked Algorand|CoinShares|ETN|0.0|<MASK>|\n",
    "Please use the supplied data to predict the <MASK>. Fund is expensive[1] or not[0]?\n",
    "Answer: 0\n",
    "Please provide an analysis and interpretation of the results to answer the original {question}.\n",
    "\"\"\"\n",
    "    }\n",
    "]\n",
    "QNA_SYS_PROMPT = format_instructions(instructions)"
   ]
  },
  {
   "cell_type": "markdown",
   "id": "f9eff571",
   "metadata": {},
   "source": [
    "Lets try the same prompts from above."
   ]
  },
  {
   "cell_type": "code",
   "execution_count": 28,
   "id": "8af41ca8-351d-449c-aa4d-ae9ba1d146f6",
   "metadata": {
    "tags": []
   },
   "outputs": [
    {
     "name": "stdout",
     "output_type": "stream",
     "text": [
      "LLM SQL Query: \n",
      "\n",
      "SELECT * \n",
      "FROM etftable \n",
      "ORDER BY totalexpenseratio DESC \n",
      "LIMIT 5;\n",
      "\n",
      "LLM SQL Analysis: \n",
      "Based on the provided data, I analyzed the features of the funds and predicted the label for the masked instance. \n",
      "\n",
      "Here's the analysis:\n",
      "\n",
      "The most important feature in determining the expensiveness of a fund is the `totalexpenseratio`. A higher expense ratio indicates that the fund is more expensive for investors.\n",
      "\n",
      "After analyzing the data, I found that the funds with higher `totalexpenseratio` values are more likely to be labeled as \"Expensive\" (1).\n",
      "\n",
      "Here are the top 5 most expensive funds based on the `totalexpenseratio`:\n",
      "\n",
      "1. `CH1135202088` - 21Shares Algorand ETP - `totalexpenseratio`: 0.3049\n",
      "2. `CH1146882316` - 21Shares Cardano ETP - `totalexpenseratio`: 0.3896\n",
      "3. `CH0475552201` - 21Shares Bitcoin Cash ETP - `totalexpenseratio`: 0.3703\n",
      "4. `CH1114873776` - 21Shares Solana ETP - `totalexpenseratio`: 0.025\n",
      "5. `CH0445689208` - 21Shares Crypto Basket Index ETP - `totalexpenseratio`: 0.025\n",
      "\n",
      "These funds have higher expense ratios, indicating that they are more expensive for investors.\n",
      "\n",
      "As for the masked instance, based on the `totalexpenseratio` value of 0.0, I predict that the label is 0, meaning the fund is not expensive.\n",
      "\n",
      "Please note that this analysis is based on a limited dataset and may not be generalizable to all ETFs and ETNs. Additionally, other features such as `legalstructure`, `fundprovider`, and `name` may also have an impact on the expensiveness of a fund, but in this case, `totalexpenseratio` seems to be the most important factor.\n"
     ]
    }
   ],
   "source": [
    "# Business question\n",
    "question = \"Show the top 5 most expensive funds\"\n",
    "\n",
    "# Generate a prompt to get the LLM to provide an SQL query\n",
    "SQL_SYS_PROMPT = PromptTemplate.from_template(tmp_sql_sys_prompt).format(\n",
    "    question=question,\n",
    "    table_schema=table_schema_etf\n",
    ")\n",
    "\n",
    "results = get_llm_sql_analysis(\n",
    "    question=question,\n",
    "    sql_sys_prompt=SQL_SYS_PROMPT,\n",
    "    qna_sys_prompt=QNA_SYS_PROMPT\n",
    ")"
   ]
  },
  {
   "cell_type": "markdown",
   "id": "b7b17c8b",
   "metadata": {},
   "source": [
    "##### As you can see, prompt engineering allowing model to learn in-context more about the dataset, **it generates a much better analysis** (including logic of analysis from the data provided in the prompt). "
   ]
  },
  {
   "cell_type": "markdown",
   "id": "ab9501d4-65d6-4b46-a8e1-b7dca32f76cd",
   "metadata": {
    "tags": []
   },
   "source": [
    "### Now lets try a complex business question that requires **two columns** from tabular data"
   ]
  },
  {
   "cell_type": "code",
   "execution_count": 29,
   "id": "e28c3719-9604-4fdf-8136-ef57824da28c",
   "metadata": {
    "tags": []
   },
   "outputs": [
    {
     "name": "stdout",
     "output_type": "stream",
     "text": [
      "LLM SQL Query: \n",
      "\n",
      "SELECT \n",
      "    name, \n",
      "    totalexpenseratio, \n",
      "    yeardividendyield\n",
      "FROM \n",
      "    etftable\n",
      "WHERE \n",
      "    yeardividendyield > 0\n",
      "ORDER BY \n",
      "    totalexpenseratio ASC\n",
      "LIMIT 5;\n",
      "\n",
      "LLM SQL Analysis: \n",
      "Based on the provided data, I will analyze and interpret the results to answer the original question.\n",
      "\n",
      "First, let's identify the funds that yield dividends. From the original query results, we can see that the funds with a non-zero `yeardividendyield` value are:\n",
      "\n",
      "1. Lyxor Core Morningstar UK NT (DR) UCITS ETF - Dist\n",
      "2. Lyxor Core Morningstar US Equity (DR) UCITS ETF - Dist\n",
      "3. Invesco EURO STOXX 50 UCITS ETF Dist\n",
      "4. Lyxor Core FTSE Actuaries UK Gilts (DR) UCITS ETF - Dist\n",
      "5. HSBC EURO STOXX 50 UCITS ETF EUR\n",
      "\n",
      "Now, let's analyze the `totalexpenseratio` values for these funds to determine the least expensive ones:\n",
      "\n",
      "1. Lyxor Core Morningstar UK NT (DR) UCITS ETF - Dist: 4.0E-4 = 0.04%\n",
      "2. Lyxor Core Morningstar US Equity (DR) UCITS ETF - Dist: 4.0E-4 = 0.04%\n",
      "3. Invesco EURO STOXX 50 UCITS ETF Dist: 5.0E-4 = 0.05%\n",
      "4. Lyxor Core FTSE Actuaries UK Gilts (DR) UCITS ETF - Dist: 5.0E-4 = 0.05%\n",
      "5. HSBC EURO STOXX 50 UCITS ETF EUR: 5.0E-4 = 0.05%\n",
      "\n",
      "Based on the `totalexpenseratio` values, the least expensive 5 funds that yield dividends are:\n",
      "\n",
      "1. Lyxor Core Morningstar UK NT (DR) UCITS ETF - Dist (0.04%)\n",
      "2. Lyxor Core Morningstar US Equity (DR) UCITS ETF - Dist (0.04%)\n",
      "3. Invesco EURO STOXX 50 UCITS ETF Dist (0.05%)\n",
      "4. Lyxor Core FTSE Actuaries UK Gilts (DR) UCITS ETF - Dist (0.05%)\n",
      "5. HSBC EURO STOXX 50 UCITS ETF EUR (0.05%)\n",
      "\n",
      "These funds have relatively low expense ratios, making them a more cost-effective option for investors.\n"
     ]
    }
   ],
   "source": [
    "# Business question\n",
    "question = \"Name the least expensive 5 funds which also yield dividends\"\n",
    "\n",
    "# Generate a prompt to get the LLM to provide an SQL query\n",
    "SQL_SYS_PROMPT = PromptTemplate.from_template(tmp_sql_sys_prompt).format(\n",
    "    question=question,\n",
    "    table_schema=table_schema_etf\n",
    ")\n",
    "\n",
    "results = get_llm_sql_analysis(\n",
    "    question=question,\n",
    "    sql_sys_prompt=SQL_SYS_PROMPT,\n",
    "    qna_sys_prompt=QNA_SYS_PROMPT\n",
    ")"
   ]
  },
  {
   "cell_type": "markdown",
   "id": "bb21659f-66dc-43a0-9e7f-e2ff89e1762a",
   "metadata": {},
   "source": [
    "##### As you can see, prompt engineering allowing model to learn in-context more about the dataset, **helps analysis with two columns** (and we dont have to provide more features as long as one of the provided features is still in use)"
   ]
  },
  {
   "cell_type": "markdown",
   "id": "01602bcb-c379-4c5e-b148-71546c5af666",
   "metadata": {},
   "source": [
    "### Now lets try a complex business question that requires **three columns** from tabular data"
   ]
  },
  {
   "cell_type": "code",
   "execution_count": 30,
   "id": "20899d44-de0b-455d-889c-99aab63412ed",
   "metadata": {
    "tags": []
   },
   "outputs": [
    {
     "name": "stdout",
     "output_type": "stream",
     "text": [
      "LLM SQL Query: \n",
      "\n",
      "SELECT \n",
      "    name, \n",
      "    yeardividendyield, \n",
      "    fiveyearreturncur, \n",
      "    totalexpenseratio\n",
      "FROM \n",
      "    etftable\n",
      "WHERE \n",
      "    yeardividendyield > 0\n",
      "ORDER BY \n",
      "    totalexpenseratio ASC, \n",
      "    fiveyearreturncur DESC\n",
      "LIMIT 5;\n",
      "\n",
      "LLM SQL Analysis: \n",
      "Based on the provided data, I will analyze the features of the funds and predict the expense ratio for each fund. Then, I will answer the original question.\n",
      "\n",
      "**Analysis of the Data**\n",
      "\n",
      "From the provided data, we have the following features:\n",
      "\n",
      "1. `name`: The name of the ETF or ETN.\n",
      "2. `totalexpenseratio`: The expense ratio of the fund, which represents the cost of owning the fund as a percentage of the investment.\n",
      "\n",
      "From the original question, we are interested in funds that yield dividends and have a good 5-year return. We can use the `yeardividendyield` and `fiveyearreturncur` features to filter the funds.\n",
      "\n",
      "**Prediction of Expense Ratio**\n",
      "\n",
      "Based on the `totalexpenseratio` feature, we can predict whether a fund is expensive or not. A low expense ratio indicates a less expensive fund, while a high expense ratio indicates an expensive fund.\n",
      "\n",
      "From the provided data, we can see that the expense ratios range from 0.0% to 0.025%. We can set a threshold of 0.01% to distinguish between expensive and non-expensive funds. Funds with an expense ratio below 0.01% are considered non-expensive, while funds with an expense ratio above 0.01% are considered expensive.\n",
      "\n",
      "**Least Expensive 5 Funds with Dividend Yield and Good 5-Year Return**\n",
      "\n",
      "From the original data, we have the following funds that yield dividends and have a good 5-year return:\n",
      "\n",
      "1. Lyxor Core Morningstar US Equity (DR) UCITS ETF - Dist: `totalexpenseratio` = 4.0E-4, `yeardividendyield` = 0.0196, `fiveyearreturncur` = 0.7337\n",
      "2. Invesco S&P 500 UCITS ETF Dist: `totalexpenseratio` = 5.0E-4, `yeardividendyield` = 0.0154, `fiveyearreturncur` = 0.8126\n",
      "3. HSBC EURO STOXX 50 UCITS ETF EUR: `totalexpenseratio` = 5.0E-4, `yeardividendyield` = 0.0297, `fiveyearreturncur` = 0.3927\n",
      "4. Invesco EURO STOXX 50 UCITS ETF Dist: `totalexpenseratio` = 5.0E-4, `yeardividendyield` = 0.0301, `fiveyearreturncur` = 0.3838\n",
      "5. Lyxor Core Morningstar UK NT (DR) UCITS ETF - Dist: `totalexpenseratio` = 4.0E-4, `yeardividendyield` = 0.0379, `fiveyearreturncur` = 0.2296\n",
      "\n",
      "All of these funds have an expense ratio below 0.01%, making them non-expensive funds. They also yield dividends and have a good 5-year return.\n",
      "\n",
      "Therefore, the least expensive 5 funds that yield dividends and have a good 5-year return are:\n",
      "\n",
      "1. Lyxor Core Morningstar US Equity (DR) UCITS ETF - Dist\n",
      "2. Invesco S&P 500 UCITS ETF Dist\n",
      "3. HSBC EURO STOXX 50 UCITS ETF EUR\n",
      "4. Invesco EURO STOXX 50 UCITS ETF Dist\n",
      "5. Lyxor Core Morningstar UK NT (DR) UCITS ETF - Dist\n"
     ]
    }
   ],
   "source": [
    "# Business question\n",
    "question = \"Name the least expensive 5 funds which yield dividends and have the best 5 year return\"\n",
    "\n",
    "# Generate a prompt to get the LLM to provide an SQL query\n",
    "SQL_SYS_PROMPT = PromptTemplate.from_template(tmp_sql_sys_prompt).format(\n",
    "    question=question,\n",
    "    table_schema=table_schema_etf\n",
    ")\n",
    "\n",
    "results = get_llm_sql_analysis(\n",
    "    question=question,\n",
    "    sql_sys_prompt=SQL_SYS_PROMPT,\n",
    "    qna_sys_prompt=QNA_SYS_PROMPT\n",
    ")"
   ]
  },
  {
   "cell_type": "markdown",
   "id": "79afdff0-fdbb-4eb1-bb62-84c31c25bfb2",
   "metadata": {},
   "source": [
    "##### **Incorrect SQL**. I think we have hit the limit of using the existing features and label in the in-context learning prompt and we need to provide more features for the model to focus on."
   ]
  },
  {
   "cell_type": "code",
   "execution_count": 31,
   "id": "5942da95-1b5f-42b8-967d-aaefc7b5a607",
   "metadata": {
    "tags": []
   },
   "outputs": [],
   "source": [
    "instructions = [\n",
    "    {\n",
    "        \"role\": \"user\",\n",
    "        \"content\": \"\"\"Given the following SQL query results:\n",
    "{query_results}\n",
    "\n",
    "And the original question:\n",
    "{question}\n",
    "\n",
    "You are an expert in Exchange-Traded Funds or ETFs and Exchange-Traded Notes or ETNs .\n",
    "Based on the features of the funds or notes, please predict best funds for investors to invest in.\n",
    "I will supply multiple instances with features and the corresponding label for reference.\n",
    "Please refer to the table below for detailed descriptions of the features and label:\n",
    "— feature description —\n",
    "Features:\n",
    "isin: International Securities Identification Number\n",
    "wkn: Wertpapierkennnummer or German securities identification number\n",
    "name: ETF Name\n",
    "fundprovider: Financial Company providing the ETF\n",
    "legalstructure: Exchange Traded Fund (ETF) or Exchange Traded Notes (ETN)\n",
    "yeardividendyield: Yearly Dividend yield as a percentage of total investment\n",
    "fiveyearreturncur: Returns over past 5 year period as a percentage of investment\n",
    "totalexpenseratio: An expense ratio is the cost of owning an ETF or ETN, the management fee paid to the fund company for the benefit of owning the fund, \n",
    "paid annually and measured as a percent of your investment in the fund. 0.30 percent means you’ll pay $30 per year for every $10,000 you have invested in the fund.\n",
    "— label description —\n",
    "GoodInvestment: The fund has lowest totalexpenseratio, high fiveyearreturncur and non-zero yeardividendyield. 0 means not GoodInvestment, 1 means GoodInvestment.\n",
    "— data —\n",
    "|isin|name|wkn|fundprovider|legalstructure|yeardividendyield|fiveyearreturncur|totalexpenseratio|GoodInvestment|\n",
    "|LU1781541096|Lyxor Core Morningstar UK NT (DR) UCITS ETF - Dist|LYX0YA|Lyxor ETF|ETF|0.0379|0.2296|4.0E-4|1|\n",
    "|LU1781540957|Lyxor Core Morningstar US Equity (DR) UCITS ETF - Dist|LYX0YB|Lyxor ETF|ETF|0.0196|0.7337|4.0E-4|1|\n",
    "|IE00B5B5TG76|Invesco EURO STOXX 50 UCITS ETF Dist|A0YESX|Invesco|ETF|0.0301|0.3838|5.0E-4|0|\n",
    "|LU1407892592|Lyxor Core FTSE Actuaries UK Gilts (DR) UCITS ETF - Dist|LYX0VW|Lyxor ETF|ETF|0.0187|-0.1288|5.0E-4|1|\n",
    "|IE00B4K6B022|HSBC EURO STOXX 50 UCITS ETF EUR|A0YF4H|HSBC ETF|ETF|0.0297|0.3927|5.0E-4|1|\n",
    "|LU1781541096|Lyxor Core Morningstar UK NT (DR) UCITS ETF - Dist|LYX0YA|Lyxor ETF|ETF|0.0379|0.2296|4.0E-4|<MASK>|\n",
    "Please use the supplied data to predict the <MASK>. Fund is expensive[1] or not[0]?\n",
    "Answer: 1\n",
    "Please provide an analysis and interpretation of the results to answer the original {question}.\n",
    "\"\"\"\n",
    "    }\n",
    "]\n",
    "QNA_SYS_PROMPT = format_instructions(instructions)"
   ]
  },
  {
   "cell_type": "markdown",
   "id": "e2f0a6b5-b6b9-4158-917d-833284b19f6e",
   "metadata": {},
   "source": [
    "### Now lets try a complex business question that requires **three columns** from tabular data AGAIN"
   ]
  },
  {
   "cell_type": "code",
   "execution_count": 32,
   "id": "6fcc3bce-b3ef-44a7-86e1-71b9f0a9bbf0",
   "metadata": {
    "tags": []
   },
   "outputs": [
    {
     "name": "stdout",
     "output_type": "stream",
     "text": [
      "LLM SQL Query: \n",
      "\n",
      "SELECT \n",
      "  name, \n",
      "  yeardividendyield, \n",
      "  fiveyearreturncur, \n",
      "  totalexpenseratio\n",
      "FROM \n",
      "  etftable\n",
      "WHERE \n",
      "  yeardividendyield > 0\n",
      "ORDER BY \n",
      "  totalexpenseratio ASC, \n",
      "  fiveyearreturncur DESC\n",
      "LIMIT 5;\n",
      "\n",
      "LLM SQL Analysis: \n",
      "Based on the provided data, I will analyze and interpret the results to answer the original question.\n",
      "\n",
      "**Filtering Criteria:**\n",
      "\n",
      "1. Least expensive funds ( lowest `totalexpenseratio` )\n",
      "2. Yield dividends ( non-zero `yeardividendyield` )\n",
      "3. Best 5-year return ( highest `fiveyearreturncur` )\n",
      "\n",
      "**Sorted Data:**\n",
      "\n",
      "Here is the sorted data based on the filtering criteria:\n",
      "\n",
      "| name | yeardividendyield | fiveyearreturncur | totalexpenseratio |\n",
      "| --- | --- | --- | --- |\n",
      "| Lyxor Core Morningstar US Equity (DR) UCITS ETF - Dist | 0.0196 | 0.7337 | 4.0E-4 |\n",
      "| Invesco S&P 500 UCITS ETF Dist | 0.0154 | 0.8126 | 5.0E-4 |\n",
      "| HSBC EURO STOXX 50 UCITS ETF EUR | 0.0297 | 0.3927 | 5.0E-4 |\n",
      "| Lyxor Core Morningstar UK NT (DR) UCITS ETF - Dist | 0.0379 | 0.2296 | 4.0E-4 |\n",
      "| Invesco EURO STOXX 50 UCITS ETF Dist | 0.0301 | 0.3838 | 5.0E-4 |\n",
      "\n",
      "**Top 5 Funds:**\n",
      "\n",
      "Based on the sorted data, the top 5 funds that meet the filtering criteria are:\n",
      "\n",
      "1. **Invesco S&P 500 UCITS ETF Dist**: With a `totalexpenseratio` of 5.0E-4, a `yeardividendyield` of 0.0154, and a `fiveyearreturncur` of 0.8126.\n",
      "2. **Lyxor Core Morningstar US Equity (DR) UCITS ETF - Dist**: With a `totalexpenseratio` of 4.0E-4, a `yeardividendyield` of 0.0196, and a `fiveyearreturncur` of 0.7337.\n",
      "3. **HSBC EURO STOXX 50 UCITS ETF EUR**: With a `totalexpenseratio` of 5.0E-4, a `yeardividendyield` of 0.0297, and a `fiveyearreturncur` of 0.3927.\n",
      "4. **Lyxor Core Morningstar UK NT (DR) UCITS ETF - Dist**: With a `totalexpenseratio` of 4.0E-4, a `yeardividendyield` of 0.0379, and a `fiveyearreturncur` of 0.2296.\n",
      "5. **Invesco EURO STOXX 50 UCITS ETF Dist**: With a `totalexpenseratio` of 5.0E-4, a `yeardividendyield` of 0.0301, and a `fiveyearreturncur` of 0.3838.\n",
      "\n",
      "These five funds offer a good balance of low expense ratios, decent dividend yields, and strong 5-year returns.\n"
     ]
    }
   ],
   "source": [
    "# Business question\n",
    "question = \"Name the least expensive 5 funds which yield dividends and have the best 5 year return\"\n",
    "\n",
    "# Generate a prompt to get the LLM to provide an SQL query\n",
    "SQL_SYS_PROMPT = PromptTemplate.from_template(tmp_sql_sys_prompt).format(\n",
    "    question=question,\n",
    "    table_schema=table_schema_etf\n",
    ")\n",
    "\n",
    "results = get_llm_sql_analysis(\n",
    "    question=question,\n",
    "    sql_sys_prompt=SQL_SYS_PROMPT,\n",
    "    qna_sys_prompt=QNA_SYS_PROMPT\n",
    ")"
   ]
  },
  {
   "cell_type": "markdown",
   "id": "324d231e-6a30-4c7f-8932-33e70e17eb41",
   "metadata": {},
   "source": [
    "##### **Correct SQL**. AND correct analysis"
   ]
  },
  {
   "cell_type": "markdown",
   "id": "e8c99960-7bed-4c08-84e8-6cb3d47e1c57",
   "metadata": {},
   "source": [
    "### Now lets try a different business question that requires **three columns** from tabular data using the same in-context features and labels "
   ]
  },
  {
   "cell_type": "code",
   "execution_count": 33,
   "id": "6a424787-601b-43af-a349-96d46a5c9019",
   "metadata": {
    "tags": []
   },
   "outputs": [
    {
     "name": "stdout",
     "output_type": "stream",
     "text": [
      "LLM SQL Query: \n",
      "\n",
      "SELECT \n",
      "  name, \n",
      "  yeardividendyield, \n",
      "  fiveyearreturncur, \n",
      "  totalexpenseratio\n",
      "FROM \n",
      "  etftable\n",
      "WHERE \n",
      "  yeardividendyield > 0 \n",
      "  AND fiveyearreturncur IS NOT NULL \n",
      "  AND totalexpenseratio IS NOT NULL\n",
      "ORDER BY \n",
      "  totalexpenseratio, \n",
      "  fiveyearreturncur\n",
      "LIMIT 5;\n",
      "\n",
      "LLM SQL Analysis: \n",
      "Based on the provided data, I will analyze and interpret the results to answer the original question.\n",
      "\n",
      "First, let's identify the funds that yield dividends and have a non-zero `yeardividendyield`. All the funds in the provided data have a non-zero `yeardividendyield`, so we don't need to filter them out.\n",
      "\n",
      "Next, let's sort the funds by their `totalexpenseratio` in ascending order to find the least expensive funds. The `totalexpenseratio` represents the annual management fee paid to the fund company, so a lower value indicates a less expensive fund.\n",
      "\n",
      "Here are the sorted funds by their `totalexpenseratio`:\n",
      "\n",
      "1. Lyxor Core Morningstar UK NT (DR) UCITS ETF - Dist: 4.0E-4\n",
      "2. Lyxor Core Morningstar US Equity (DR) UCITS ETF - Dist: 4.0E-4\n",
      "3. Lyxor Core FTSE Actuaries UK Gilts (DR) UCITS ETF - Dist: 5.0E-4\n",
      "4. Invesco EURO STOXX 50 UCITS ETF Dist: 5.0E-4\n",
      "5. HSBC EURO STOXX 50 UCITS ETF EUR: 5.0E-4\n",
      "\n",
      "Now, let's sort these funds by their `fiveyearreturncur` in ascending order to find the funds with the lowest 5-year return.\n",
      "\n",
      "Here are the sorted funds by their `fiveyearreturncur`:\n",
      "\n",
      "1. Lyxor Core FTSE Actuaries UK Gilts (DR) UCITS ETF - Dist: -0.1288\n",
      "2. Lyxor Core Morningstar UK NT (DR) UCITS ETF - Dist: 0.2296\n",
      "3. Invesco EURO STOXX 50 UCITS ETF Dist: 0.3838\n",
      "4. HSBC EURO STOXX 50 UCITS ETF EUR: 0.3927\n",
      "5. Lyxor Core Morningstar US Equity (DR) UCITS ETF - Dist: 0.7337\n",
      "\n",
      "Based on the analysis, the least expensive 5 funds that yield dividends and have the lowest 5-year return are:\n",
      "\n",
      "1. Lyxor Core FTSE Actuaries UK Gilts (DR) UCITS ETF - Dist: `totalexpenseratio` = 5.0E-4, `fiveyearreturncur` = -0.1288\n",
      "2. Lyxor Core Morningstar UK NT (DR) UCITS ETF - Dist: `totalexpenseratio` = 4.0E-4, `fiveyearreturncur` = 0.2296\n",
      "3. Invesco EURO STOXX 50 UCITS ETF Dist: `totalexpenseratio` = 5.0E-4, `fiveyearreturncur` = 0.3838\n",
      "4. HSBC EURO STOXX 50 UCITS ETF EUR: `totalexpenseratio` = 5.0E-4, `fiveyearreturncur` = 0.3927\n",
      "5. Lyxor Core Morningstar US Equity (DR) UCITS ETF - Dist: `totalexpenseratio` = 4.0E-4, `fiveyearreturncur` = 0.7337\n",
      "\n",
      "Please note that while these funds have a lower `totalexpenseratio` and `fiveyearreturncur`, it's essential to consider other factors such as the fund's investment strategy, risk profile, and overall performance before making an investment decision.\n"
     ]
    }
   ],
   "source": [
    "# Business question\n",
    "question = \"Name the least expensive 5 funds which yield dividends and have the lowest 5 year return\"\n",
    "\n",
    "# Generate a prompt to get the LLM to provide an SQL query\n",
    "SQL_SYS_PROMPT = PromptTemplate.from_template(tmp_sql_sys_prompt).format(\n",
    "    question=question,\n",
    "    table_schema=table_schema_etf\n",
    ")\n",
    "\n",
    "results = get_llm_sql_analysis(\n",
    "    question=question,\n",
    "    sql_sys_prompt=SQL_SYS_PROMPT,\n",
    "    qna_sys_prompt=QNA_SYS_PROMPT\n",
    ")"
   ]
  },
  {
   "cell_type": "markdown",
   "id": "75866722-5c27-4d07-aa03-820ec4843556",
   "metadata": {},
   "source": [
    "##### **Great SQL and Analysis of the data output.**\n",
    "### More business questions that use multiple data columns and complex analysis of data"
   ]
  },
  {
   "cell_type": "code",
   "execution_count": 34,
   "id": "28cbf8e6-4fc1-4490-956c-115183d53bbe",
   "metadata": {
    "tags": []
   },
   "outputs": [
    {
     "name": "stdout",
     "output_type": "stream",
     "text": [
      "LLM SQL Query: \n",
      "\n",
      "SELECT \n",
      "    name, \n",
      "    yeardividendyield, \n",
      "    yearvolatilitycur, \n",
      "    fiveyearreturncur \n",
      "FROM \n",
      "    etftable \n",
      "WHERE \n",
      "    yeardividendyield > 3 \n",
      "    AND yearvolatilitycur < 10 \n",
      "    AND fiveyearreturncur > 5 \n",
      "ORDER BY \n",
      "    yearvolatilitycur ASC \n",
      "LIMIT 10;\n",
      "\n",
      "LLM SQL Analysis: \n",
      "Based on the provided data, I will analyze the features and predict the GoodInvestment label for each fund. Then, I will identify the least risk funds that yield higher dividends and aren't volatile.\n",
      "\n",
      "**Analysis**\n",
      "\n",
      "From the data, I observe the following:\n",
      "\n",
      "1. **Low total expense ratio**: Funds with lower totalexpenseratio are more desirable, as they charge lower management fees. A lower expense ratio indicates that the fund is cheaper to own.\n",
      "2. **High five-year return**: Funds with higher fiveyearreturncur indicate better performance over the past 5 years.\n",
      "3. **Non-zero yearly dividend yield**: Funds with non-zero yeardividendyield provide a regular income stream to investors.\n",
      "\n",
      "**Prediction of GoodInvestment label**\n",
      "\n",
      "Based on the analysis, I predict the GoodInvestment label for each fund as follows:\n",
      "\n",
      "|isin|GoodInvestment|\n",
      "| --- | --- |\n",
      "|LU1781541096|1|\n",
      "|LU1781540957|1|\n",
      "|IE00B5B5TG76|0|\n",
      "|LU1407892592|1|\n",
      "|IE00B4K6B022|1|\n",
      "|LU1781541096|1|\n",
      "\n",
      "**Least risk funds that yield higher dividends and aren't volatile**\n",
      "\n",
      "To identify the least risk funds, I will consider the following criteria:\n",
      "\n",
      "1. **Low volatility**: Funds with lower fiveyearreturncur volatility are less risky.\n",
      "2. **Higher dividend yield**: Funds with higher yeardividendyield provide a regular income stream to investors.\n",
      "3. **Low expense ratio**: Funds with lower totalexpenseratio are cheaper to own.\n",
      "\n",
      "Based on these criteria, I recommend the following funds:\n",
      "\n",
      "1. **Lyxor Core Morningstar UK NT (DR) UCITS ETF - Dist (LU1781541096)**: This fund has a low expense ratio (0.04%), a relatively high dividend yield (0.0379), and a moderate five-year return (0.2296).\n",
      "2. **Lyxor Core Morningstar US Equity (DR) UCITS ETF - Dist (LU1781540957)**: This fund has a low expense ratio (0.04%), a relatively high dividend yield (0.0196), and a high five-year return (0.7337).\n",
      "3. **HSBC EURO STOXX 50 UCITS ETF EUR (IE00B4K6B022)**: This fund has a moderate expense ratio (0.05%), a relatively high dividend yield (0.0297), and a moderate five-year return (0.3927).\n",
      "\n",
      "These funds offer a balance between dividend yield, low expense ratio, and moderate volatility, making them suitable for investors seeking a relatively stable investment with a regular income stream.\n"
     ]
    }
   ],
   "source": [
    "# Business question\n",
    "question = \"Name the least risk funds that yields higher dividends and isn't volatile\"\n",
    "\n",
    "# Generate a prompt to get the LLM to provide an SQL query\n",
    "SQL_SYS_PROMPT = PromptTemplate.from_template(tmp_sql_sys_prompt).format(\n",
    "    question=question,\n",
    "    table_schema=table_schema_etf\n",
    ")\n",
    "\n",
    "results = get_llm_sql_analysis(\n",
    "    question=question,\n",
    "    sql_sys_prompt=SQL_SYS_PROMPT,\n",
    "    qna_sys_prompt=QNA_SYS_PROMPT\n",
    ")"
   ]
  },
  {
   "cell_type": "markdown",
   "id": "3cdccf8b-5636-4a5f-9d0f-3431bc3eee89",
   "metadata": {},
   "source": [
    "##### Although **SQL** is looking at one year volatility column, it ignored the five year and three year columns. Also volatility data is not available for all funds (5-year or 3-year or 1-year).\n",
    "##### **Lets try to create a prompt that will provide analysis that will consider both volatility columns as well as no data ETFs.**"
   ]
  },
  {
   "cell_type": "code",
   "execution_count": 38,
   "id": "b60ce450-fa56-4966-8969-0a95570617bc",
   "metadata": {
    "tags": []
   },
   "outputs": [],
   "source": [
    "instructions = [\n",
    "    {\n",
    "        \"role\": \"user\",\n",
    "        \"content\": \"\"\"Given the following SQL query results:\n",
    "{query_results}\n",
    "\n",
    "And the original question:\n",
    "{question}\n",
    "\n",
    "You are an expert in Exchange-Traded Funds or ETFs and Exchange-Traded Notes or ETNs .\n",
    "Based on the features of the funds or notes, please predict best funds for investors to invest in.\n",
    "I will supply multiple instances with features and the corresponding label for reference.\n",
    "Please refer to the table below for detailed descriptions of the features and label:\n",
    "— feature description —\n",
    "Features:\n",
    "isin: International Securities Identification Number\n",
    "wkn: Wertpapierkennnummer or German securities identification number\n",
    "name: ETF Name\n",
    "fundprovider: Financial Company providing the ETF\n",
    "legalstructure: Exchange Traded Fund (ETF) or Exchange Traded Notes (ETN)\n",
    "yeardividendyield: Yearly Dividend yield as a percentage of total investment\n",
    "fiveyearreturncur: Returns over past 5 year period as a percentage of investment\n",
    "totalexpenseratio: An expense ratio is the cost of owning an ETF or ETN, the management fee paid to the fund company for the benefit of owning the fund, \n",
    "paid annually and measured as a percent of your investment in the fund. 0.30 percent means you’ll pay $30 per year for every $10,000 you have invested in the fund.\n",
    "— label description —\n",
    "volatile: The fund has low fiveyearvolatilitycur, threeyearvolatilitycur, yearvolatilitycur. 0 means not volatile, 1 means volatile, 2 means cannot be determined.\n",
    "— data —\n",
    "|isin|name|fiveyearvolatilitycur|threeyearvolatilitycur|yearvolatilitycur|Risk|\n",
    "|LU0335044896|Xtrackers II EUR Overnight Rate Swap UCITS ETF 1D|8.0E-4|9.0E-4|0.0011|0|\n",
    "|FR0010510800|Lyxor Euro Overnight Return UCITS ETF - Acc|8.0E-4|9.0E-4|0.0011|0|\n",
    "|LU0290358497|Xtrackers II EUR Overnight Rate Swap UCITS ETF 1C|9.0E-4|0.001|0.0013|0|\n",
    "|BGCROEX03189|Expat Croatia CROBEX UCITS ETF|0.675|0.8606|1.4787|1|\n",
    "|IE000RN036E0|First Trust Alerian Disruptive Technology Real Estate UCITS ETF Acc||||2|\n",
    "|GB00BNRRF105|CoinShares Physical Staked Algorand||||2|\n",
    "|FR0010754200|Amundi ETF Govies 0-6 Months Euro Investment Grade UCITS ETF EUR (C)|0.0014|0.0016|0.0021|<MASK>|\n",
    "Please use the supplied data to predict the <MASK>. Fund is volatile[1] or not[0] or cannot-be-determined[2]?\n",
    "Answer: 1\n",
    "Please provide an analysis and interpretation of the results to answer the original {question}.\n",
    "\"\"\"\n",
    "    }\n",
    "]\n",
    "QNA_SYS_PROMPT = format_instructions(instructions)"
   ]
  },
  {
   "cell_type": "code",
   "execution_count": 39,
   "id": "030b4424-9ed5-4cac-bc99-6f1194e20857",
   "metadata": {
    "tags": []
   },
   "outputs": [
    {
     "name": "stdout",
     "output_type": "stream",
     "text": [
      "LLM SQL Query: \n",
      "\n",
      "SELECT \n",
      "  name, \n",
      "  yeardividendyield, \n",
      "  yearvolatilitycur, \n",
      "  fiveyearreturnperriskcur\n",
      "FROM \n",
      "  etftable\n",
      "WHERE \n",
      "  yeardividendyield > 0 \n",
      "  AND yearvolatilitycur < 0.5 \n",
      "  AND fiveyearreturnperriskcur > 1\n",
      "ORDER BY \n",
      "  yearvolatilitycur ASC, \n",
      "  yeardividendyield DESC\n",
      "LIMIT 10;\n",
      "\n",
      "LLM SQL Analysis: \n",
      "Based on the provided data, I will analyze and interpret the results to answer the original question.\n",
      "\n",
      "First, let's identify the key features that are relevant to the question:\n",
      "\n",
      "1. `yeardividendyield`: Yearly Dividend yield as a percentage of total investment\n",
      "2. `fiveyearreturncur`: Returns over past 5 year period as a percentage of investment\n",
      "3. `yearvolatilitycur`: Yearly volatility of the fund\n",
      "4. `volatile`: The fund has low `fiveyearvolatilitycur`, `threeyearvolatilitycur`, `yearvolatilitycur`. 0 means not volatile, 1 means volatile, 2 means cannot be determined.\n",
      "\n",
      "To answer the question, we need to find the least risk funds that yield higher dividends and aren't volatile.\n",
      "\n",
      "From the data, I observe the following:\n",
      "\n",
      "* The funds with the highest `yeardividendyield` are:\n",
      "\t+ FR0010754200: Amundi ETF Govies 0-6 Months Euro Investment Grade UCITS ETF EUR (C) with 4.34%\n",
      "\t+ LU0335044896: Xtrackers II EUR Overnight Rate Swap UCITS ETF 1D with 3.45%\n",
      "\t+ LU0290358497: Xtrackers II EUR Overnight Rate Swap UCITS ETF 1C with 3.34%\n",
      "* The funds with the lowest `yearvolatilitycur` are:\n",
      "\t+ LU0335044896: Xtrackers II EUR Overnight Rate Swap UCITS ETF 1D with 0.0011\n",
      "\t+ LU0290358497: Xtrackers II EUR Overnight Rate Swap UCITS ETF 1C with 0.0013\n",
      "\t+ FR0010510800: Lyxor Euro Overnight Return UCITS ETF - Acc with 0.0011\n",
      "* The funds with the lowest `fiveyearvolatilitycur` are:\n",
      "\t+ LU0335044896: Xtrackers II EUR Overnight Rate Swap UCITS ETF 1D with 8.0E-4\n",
      "\t+ LU0290358497: Xtrackers II EUR Overnight Rate Swap UCITS ETF 1C with 9.0E-4\n",
      "\t+ FR0010510800: Lyxor Euro Overnight Return UCITS ETF - Acc with 8.0E-4\n",
      "\n",
      "Based on these observations, I recommend the following funds as the least risk funds that yield higher dividends and aren't volatile:\n",
      "\n",
      "1. LU0335044896: Xtrackers II EUR Overnight Rate Swap UCITS ETF 1D\n",
      "\t* `yeardividendyield`: 3.45%\n",
      "\t* `yearvolatilitycur`: 0.0011\n",
      "\t* `fiveyearvolatilitycur`: 8.0E-4\n",
      "\t* `volatile`: 0 (not volatile)\n",
      "2. LU0290358497: Xtrackers II EUR Overnight Rate Swap UCITS ETF 1C\n",
      "\t* `yeardividendyield`: 3.34%\n",
      "\t* `yearvolatilitycur`: 0.0013\n",
      "\t* `fiveyearvolatilitycur`: 9.0E-4\n",
      "\t* `volatile`: 0 (not volatile)\n",
      "3. FR0010510800: Lyxor Euro Overnight Return UCITS ETF - Acc\n",
      "\t* `yeardividendyield`: 2.93%\n",
      "\t* `yearvolatilitycur`: 0.0011\n",
      "\t* `fiveyearvolatilitycur`: 8.0E-4\n",
      "\t* `volatile`: 0 (not volatile)\n",
      "\n",
      "These funds have relatively high dividend yields, low volatility, and are not considered volatile. However, please note that past performance is not a guarantee of future results, and it's essential to conduct thorough research and consider other factors before making an investment decision.\n"
     ]
    }
   ],
   "source": [
    "# Business question\n",
    "question = \"Name the least risk funds that yields higher dividends and isn't volatile\"\n",
    "\n",
    "# Generate a prompt to get the LLM to provide an SQL query\n",
    "SQL_SYS_PROMPT = PromptTemplate.from_template(tmp_sql_sys_prompt).format(\n",
    "    question=question,\n",
    "    table_schema=table_schema_etf\n",
    ")\n",
    "\n",
    "results = get_llm_sql_analysis(\n",
    "    question=question,\n",
    "    sql_sys_prompt=SQL_SYS_PROMPT,\n",
    "    qna_sys_prompt=QNA_SYS_PROMPT\n",
    ")"
   ]
  },
  {
   "cell_type": "markdown",
   "id": "6c2437f6-e18d-49d5-9aa5-3ea0f9a693e9",
   "metadata": {},
   "source": [
    "##### SQL did not consider **three year** volatility column. Lets try some additional prompting in the question."
   ]
  },
  {
   "cell_type": "code",
   "execution_count": 40,
   "id": "dbba558a-ec81-4c2c-b433-c3bef9f1f7d6",
   "metadata": {
    "tags": []
   },
   "outputs": [
    {
     "name": "stdout",
     "output_type": "stream",
     "text": [
      "LLM SQL Query: \n",
      "\n",
      "SELECT \n",
      "  name, \n",
      "  fundprovider, \n",
      "  yeardividendyield, \n",
      "  fiveyearvolatilitycur, \n",
      "  threeyearvolatilitycur, \n",
      "  yearvolatilitycur\n",
      "FROM \n",
      "  etftable\n",
      "WHERE \n",
      "  yeardividendyield > 0 \n",
      "  AND fiveyearvolatilitycur < (SELECT AVG(fiveyearvolatilitycur) FROM etftable) \n",
      "  AND threeyearvolatilitycur < (SELECT AVG(threeyearvolatilitycur) FROM etftable) \n",
      "  AND yearvolatilitycur < (SELECT AVG(yearvolatilitycur) FROM etftable)\n",
      "ORDER BY \n",
      "  yeardividendyield DESC, \n",
      "  fiveyearvolatilitycur, \n",
      "  threeyearvolatilitycur, \n",
      "  yearvolatilitycur\n",
      "LIMIT 10;\n",
      "\n",
      "LLM SQL Analysis: \n",
      "Based on the provided data, I will analyze and interpret the results to answer the original question.\n",
      "\n",
      "**Least Risk Funds with Higher Dividend Yields and Low Volatility**\n",
      "\n",
      "To identify the least risk funds, I will consider the following criteria:\n",
      "\n",
      "1. **Low Volatility**: Funds with low five-year, three-year, and one-year volatility (less than 0.1).\n",
      "2. **Higher Dividend Yields**: Funds with a higher yearly dividend yield (greater than 0.07).\n",
      "3. **Low Expense Ratio**: Funds with a low total expense ratio (less than 0.1).\n",
      "\n",
      "After analyzing the data, I have identified the following funds that meet the above criteria:\n",
      "\n",
      "1. **Xtrackers STOXX Global Select Dividend 100 Swap UCITS ETF 1D**:\n",
      "\t* Yearly Dividend Yield: 0.0938\n",
      "\t* Five-year Volatility: 0.1096\n",
      "\t* Three-year Volatility: 0.1125\n",
      "\t* One-year Volatility: 0.1236\n",
      "\t* Expense Ratio: Not available in the data\n",
      "2. **WisdomTree Emerging Markets Equity Income UCITS ETF**:\n",
      "\t* Yearly Dividend Yield: 0.0797\n",
      "\t* Five-year Volatility: 0.1532\n",
      "\t* Three-year Volatility: 0.1471\n",
      "\t* One-year Volatility: 0.1335\n",
      "\t* Expense Ratio: Not available in the data\n",
      "3. **Invesco FTSE EM High Dividend Low Volatility UCITS ETF**:\n",
      "\t* Yearly Dividend Yield: 0.0787\n",
      "\t* Five-year Volatility: 0.1566\n",
      "\t* Three-year Volatility: 0.1621\n",
      "\t* One-year Volatility: 0.1439\n",
      "\t* Expense Ratio: Not available in the data\n",
      "\n",
      "These funds have relatively low volatility and higher dividend yields compared to the other funds in the dataset. However, please note that the expense ratio is not available in the data, which is an important factor to consider when evaluating the overall cost of investing in an ETF.\n",
      "\n",
      "**Additional Considerations**\n",
      "\n",
      "When evaluating these funds, investors should also consider other factors such as:\n",
      "\n",
      "1. **Fund Provider**: The reputation and experience of the fund provider can impact the fund's performance and risk profile.\n",
      "2. **Legal Structure**: The legal structure of the fund (ETF or ETN) can affect its tax efficiency, liquidity, and regulatory environment.\n",
      "3. **Investment Strategy**: The fund's investment strategy and asset allocation can influence its risk profile and potential returns.\n",
      "\n",
      "In conclusion, the three funds mentioned above appear to be the least risk funds with higher dividend yields and low volatility based on the provided data. However, investors should conduct further research and consider additional factors before making an investment decision.\n"
     ]
    }
   ],
   "source": [
    "# Business question\n",
    "question = \"Name the least risk funds that yields higher dividends and isn't volatile based on five year, three year and one year volatiliy data\"\n",
    "\n",
    "# Generate a prompt to get the LLM to provide an SQL query\n",
    "SQL_SYS_PROMPT = PromptTemplate.from_template(tmp_sql_sys_prompt).format(\n",
    "    question=question,\n",
    "    table_schema=table_schema_etf\n",
    ")\n",
    "\n",
    "results = get_llm_sql_analysis(\n",
    "    question=question,\n",
    "    sql_sys_prompt=SQL_SYS_PROMPT,\n",
    "    qna_sys_prompt=QNA_SYS_PROMPT\n",
    ")"
   ]
  },
  {
   "cell_type": "markdown",
   "id": "c41876b1-797f-4c06-b7de-5c9d3e296fcd",
   "metadata": {},
   "source": [
    "##### **Good SQL** generation and great analysis. We can improve the SQL and analysis by adding the total expense ration in the in-context features and label."
   ]
  }
 ],
 "metadata": {
  "availableInstances": [
   {
    "_defaultOrder": 0,
    "_isFastLaunch": true,
    "category": "General purpose",
    "gpuNum": 0,
    "hideHardwareSpecs": false,
    "memoryGiB": 4,
    "name": "ml.t3.medium",
    "vcpuNum": 2
   },
   {
    "_defaultOrder": 1,
    "_isFastLaunch": false,
    "category": "General purpose",
    "gpuNum": 0,
    "hideHardwareSpecs": false,
    "memoryGiB": 8,
    "name": "ml.t3.large",
    "vcpuNum": 2
   },
   {
    "_defaultOrder": 2,
    "_isFastLaunch": false,
    "category": "General purpose",
    "gpuNum": 0,
    "hideHardwareSpecs": false,
    "memoryGiB": 16,
    "name": "ml.t3.xlarge",
    "vcpuNum": 4
   },
   {
    "_defaultOrder": 3,
    "_isFastLaunch": false,
    "category": "General purpose",
    "gpuNum": 0,
    "hideHardwareSpecs": false,
    "memoryGiB": 32,
    "name": "ml.t3.2xlarge",
    "vcpuNum": 8
   },
   {
    "_defaultOrder": 4,
    "_isFastLaunch": true,
    "category": "General purpose",
    "gpuNum": 0,
    "hideHardwareSpecs": false,
    "memoryGiB": 8,
    "name": "ml.m5.large",
    "vcpuNum": 2
   },
   {
    "_defaultOrder": 5,
    "_isFastLaunch": false,
    "category": "General purpose",
    "gpuNum": 0,
    "hideHardwareSpecs": false,
    "memoryGiB": 16,
    "name": "ml.m5.xlarge",
    "vcpuNum": 4
   },
   {
    "_defaultOrder": 6,
    "_isFastLaunch": false,
    "category": "General purpose",
    "gpuNum": 0,
    "hideHardwareSpecs": false,
    "memoryGiB": 32,
    "name": "ml.m5.2xlarge",
    "vcpuNum": 8
   },
   {
    "_defaultOrder": 7,
    "_isFastLaunch": false,
    "category": "General purpose",
    "gpuNum": 0,
    "hideHardwareSpecs": false,
    "memoryGiB": 64,
    "name": "ml.m5.4xlarge",
    "vcpuNum": 16
   },
   {
    "_defaultOrder": 8,
    "_isFastLaunch": false,
    "category": "General purpose",
    "gpuNum": 0,
    "hideHardwareSpecs": false,
    "memoryGiB": 128,
    "name": "ml.m5.8xlarge",
    "vcpuNum": 32
   },
   {
    "_defaultOrder": 9,
    "_isFastLaunch": false,
    "category": "General purpose",
    "gpuNum": 0,
    "hideHardwareSpecs": false,
    "memoryGiB": 192,
    "name": "ml.m5.12xlarge",
    "vcpuNum": 48
   },
   {
    "_defaultOrder": 10,
    "_isFastLaunch": false,
    "category": "General purpose",
    "gpuNum": 0,
    "hideHardwareSpecs": false,
    "memoryGiB": 256,
    "name": "ml.m5.16xlarge",
    "vcpuNum": 64
   },
   {
    "_defaultOrder": 11,
    "_isFastLaunch": false,
    "category": "General purpose",
    "gpuNum": 0,
    "hideHardwareSpecs": false,
    "memoryGiB": 384,
    "name": "ml.m5.24xlarge",
    "vcpuNum": 96
   },
   {
    "_defaultOrder": 12,
    "_isFastLaunch": false,
    "category": "General purpose",
    "gpuNum": 0,
    "hideHardwareSpecs": false,
    "memoryGiB": 8,
    "name": "ml.m5d.large",
    "vcpuNum": 2
   },
   {
    "_defaultOrder": 13,
    "_isFastLaunch": false,
    "category": "General purpose",
    "gpuNum": 0,
    "hideHardwareSpecs": false,
    "memoryGiB": 16,
    "name": "ml.m5d.xlarge",
    "vcpuNum": 4
   },
   {
    "_defaultOrder": 14,
    "_isFastLaunch": false,
    "category": "General purpose",
    "gpuNum": 0,
    "hideHardwareSpecs": false,
    "memoryGiB": 32,
    "name": "ml.m5d.2xlarge",
    "vcpuNum": 8
   },
   {
    "_defaultOrder": 15,
    "_isFastLaunch": false,
    "category": "General purpose",
    "gpuNum": 0,
    "hideHardwareSpecs": false,
    "memoryGiB": 64,
    "name": "ml.m5d.4xlarge",
    "vcpuNum": 16
   },
   {
    "_defaultOrder": 16,
    "_isFastLaunch": false,
    "category": "General purpose",
    "gpuNum": 0,
    "hideHardwareSpecs": false,
    "memoryGiB": 128,
    "name": "ml.m5d.8xlarge",
    "vcpuNum": 32
   },
   {
    "_defaultOrder": 17,
    "_isFastLaunch": false,
    "category": "General purpose",
    "gpuNum": 0,
    "hideHardwareSpecs": false,
    "memoryGiB": 192,
    "name": "ml.m5d.12xlarge",
    "vcpuNum": 48
   },
   {
    "_defaultOrder": 18,
    "_isFastLaunch": false,
    "category": "General purpose",
    "gpuNum": 0,
    "hideHardwareSpecs": false,
    "memoryGiB": 256,
    "name": "ml.m5d.16xlarge",
    "vcpuNum": 64
   },
   {
    "_defaultOrder": 19,
    "_isFastLaunch": false,
    "category": "General purpose",
    "gpuNum": 0,
    "hideHardwareSpecs": false,
    "memoryGiB": 384,
    "name": "ml.m5d.24xlarge",
    "vcpuNum": 96
   },
   {
    "_defaultOrder": 20,
    "_isFastLaunch": false,
    "category": "General purpose",
    "gpuNum": 0,
    "hideHardwareSpecs": true,
    "memoryGiB": 0,
    "name": "ml.geospatial.interactive",
    "supportedImageNames": [
     "sagemaker-geospatial-v1-0"
    ],
    "vcpuNum": 0
   },
   {
    "_defaultOrder": 21,
    "_isFastLaunch": true,
    "category": "Compute optimized",
    "gpuNum": 0,
    "hideHardwareSpecs": false,
    "memoryGiB": 4,
    "name": "ml.c5.large",
    "vcpuNum": 2
   },
   {
    "_defaultOrder": 22,
    "_isFastLaunch": false,
    "category": "Compute optimized",
    "gpuNum": 0,
    "hideHardwareSpecs": false,
    "memoryGiB": 8,
    "name": "ml.c5.xlarge",
    "vcpuNum": 4
   },
   {
    "_defaultOrder": 23,
    "_isFastLaunch": false,
    "category": "Compute optimized",
    "gpuNum": 0,
    "hideHardwareSpecs": false,
    "memoryGiB": 16,
    "name": "ml.c5.2xlarge",
    "vcpuNum": 8
   },
   {
    "_defaultOrder": 24,
    "_isFastLaunch": false,
    "category": "Compute optimized",
    "gpuNum": 0,
    "hideHardwareSpecs": false,
    "memoryGiB": 32,
    "name": "ml.c5.4xlarge",
    "vcpuNum": 16
   },
   {
    "_defaultOrder": 25,
    "_isFastLaunch": false,
    "category": "Compute optimized",
    "gpuNum": 0,
    "hideHardwareSpecs": false,
    "memoryGiB": 72,
    "name": "ml.c5.9xlarge",
    "vcpuNum": 36
   },
   {
    "_defaultOrder": 26,
    "_isFastLaunch": false,
    "category": "Compute optimized",
    "gpuNum": 0,
    "hideHardwareSpecs": false,
    "memoryGiB": 96,
    "name": "ml.c5.12xlarge",
    "vcpuNum": 48
   },
   {
    "_defaultOrder": 27,
    "_isFastLaunch": false,
    "category": "Compute optimized",
    "gpuNum": 0,
    "hideHardwareSpecs": false,
    "memoryGiB": 144,
    "name": "ml.c5.18xlarge",
    "vcpuNum": 72
   },
   {
    "_defaultOrder": 28,
    "_isFastLaunch": false,
    "category": "Compute optimized",
    "gpuNum": 0,
    "hideHardwareSpecs": false,
    "memoryGiB": 192,
    "name": "ml.c5.24xlarge",
    "vcpuNum": 96
   },
   {
    "_defaultOrder": 29,
    "_isFastLaunch": true,
    "category": "Accelerated computing",
    "gpuNum": 1,
    "hideHardwareSpecs": false,
    "memoryGiB": 16,
    "name": "ml.g4dn.xlarge",
    "vcpuNum": 4
   },
   {
    "_defaultOrder": 30,
    "_isFastLaunch": false,
    "category": "Accelerated computing",
    "gpuNum": 1,
    "hideHardwareSpecs": false,
    "memoryGiB": 32,
    "name": "ml.g4dn.2xlarge",
    "vcpuNum": 8
   },
   {
    "_defaultOrder": 31,
    "_isFastLaunch": false,
    "category": "Accelerated computing",
    "gpuNum": 1,
    "hideHardwareSpecs": false,
    "memoryGiB": 64,
    "name": "ml.g4dn.4xlarge",
    "vcpuNum": 16
   },
   {
    "_defaultOrder": 32,
    "_isFastLaunch": false,
    "category": "Accelerated computing",
    "gpuNum": 1,
    "hideHardwareSpecs": false,
    "memoryGiB": 128,
    "name": "ml.g4dn.8xlarge",
    "vcpuNum": 32
   },
   {
    "_defaultOrder": 33,
    "_isFastLaunch": false,
    "category": "Accelerated computing",
    "gpuNum": 4,
    "hideHardwareSpecs": false,
    "memoryGiB": 192,
    "name": "ml.g4dn.12xlarge",
    "vcpuNum": 48
   },
   {
    "_defaultOrder": 34,
    "_isFastLaunch": false,
    "category": "Accelerated computing",
    "gpuNum": 1,
    "hideHardwareSpecs": false,
    "memoryGiB": 256,
    "name": "ml.g4dn.16xlarge",
    "vcpuNum": 64
   },
   {
    "_defaultOrder": 35,
    "_isFastLaunch": false,
    "category": "Accelerated computing",
    "gpuNum": 1,
    "hideHardwareSpecs": false,
    "memoryGiB": 61,
    "name": "ml.p3.2xlarge",
    "vcpuNum": 8
   },
   {
    "_defaultOrder": 36,
    "_isFastLaunch": false,
    "category": "Accelerated computing",
    "gpuNum": 4,
    "hideHardwareSpecs": false,
    "memoryGiB": 244,
    "name": "ml.p3.8xlarge",
    "vcpuNum": 32
   },
   {
    "_defaultOrder": 37,
    "_isFastLaunch": false,
    "category": "Accelerated computing",
    "gpuNum": 8,
    "hideHardwareSpecs": false,
    "memoryGiB": 488,
    "name": "ml.p3.16xlarge",
    "vcpuNum": 64
   },
   {
    "_defaultOrder": 38,
    "_isFastLaunch": false,
    "category": "Accelerated computing",
    "gpuNum": 8,
    "hideHardwareSpecs": false,
    "memoryGiB": 768,
    "name": "ml.p3dn.24xlarge",
    "vcpuNum": 96
   },
   {
    "_defaultOrder": 39,
    "_isFastLaunch": false,
    "category": "Memory Optimized",
    "gpuNum": 0,
    "hideHardwareSpecs": false,
    "memoryGiB": 16,
    "name": "ml.r5.large",
    "vcpuNum": 2
   },
   {
    "_defaultOrder": 40,
    "_isFastLaunch": false,
    "category": "Memory Optimized",
    "gpuNum": 0,
    "hideHardwareSpecs": false,
    "memoryGiB": 32,
    "name": "ml.r5.xlarge",
    "vcpuNum": 4
   },
   {
    "_defaultOrder": 41,
    "_isFastLaunch": false,
    "category": "Memory Optimized",
    "gpuNum": 0,
    "hideHardwareSpecs": false,
    "memoryGiB": 64,
    "name": "ml.r5.2xlarge",
    "vcpuNum": 8
   },
   {
    "_defaultOrder": 42,
    "_isFastLaunch": false,
    "category": "Memory Optimized",
    "gpuNum": 0,
    "hideHardwareSpecs": false,
    "memoryGiB": 128,
    "name": "ml.r5.4xlarge",
    "vcpuNum": 16
   },
   {
    "_defaultOrder": 43,
    "_isFastLaunch": false,
    "category": "Memory Optimized",
    "gpuNum": 0,
    "hideHardwareSpecs": false,
    "memoryGiB": 256,
    "name": "ml.r5.8xlarge",
    "vcpuNum": 32
   },
   {
    "_defaultOrder": 44,
    "_isFastLaunch": false,
    "category": "Memory Optimized",
    "gpuNum": 0,
    "hideHardwareSpecs": false,
    "memoryGiB": 384,
    "name": "ml.r5.12xlarge",
    "vcpuNum": 48
   },
   {
    "_defaultOrder": 45,
    "_isFastLaunch": false,
    "category": "Memory Optimized",
    "gpuNum": 0,
    "hideHardwareSpecs": false,
    "memoryGiB": 512,
    "name": "ml.r5.16xlarge",
    "vcpuNum": 64
   },
   {
    "_defaultOrder": 46,
    "_isFastLaunch": false,
    "category": "Memory Optimized",
    "gpuNum": 0,
    "hideHardwareSpecs": false,
    "memoryGiB": 768,
    "name": "ml.r5.24xlarge",
    "vcpuNum": 96
   },
   {
    "_defaultOrder": 47,
    "_isFastLaunch": false,
    "category": "Accelerated computing",
    "gpuNum": 1,
    "hideHardwareSpecs": false,
    "memoryGiB": 16,
    "name": "ml.g5.xlarge",
    "vcpuNum": 4
   },
   {
    "_defaultOrder": 48,
    "_isFastLaunch": false,
    "category": "Accelerated computing",
    "gpuNum": 1,
    "hideHardwareSpecs": false,
    "memoryGiB": 32,
    "name": "ml.g5.2xlarge",
    "vcpuNum": 8
   },
   {
    "_defaultOrder": 49,
    "_isFastLaunch": false,
    "category": "Accelerated computing",
    "gpuNum": 1,
    "hideHardwareSpecs": false,
    "memoryGiB": 64,
    "name": "ml.g5.4xlarge",
    "vcpuNum": 16
   },
   {
    "_defaultOrder": 50,
    "_isFastLaunch": false,
    "category": "Accelerated computing",
    "gpuNum": 1,
    "hideHardwareSpecs": false,
    "memoryGiB": 128,
    "name": "ml.g5.8xlarge",
    "vcpuNum": 32
   },
   {
    "_defaultOrder": 51,
    "_isFastLaunch": false,
    "category": "Accelerated computing",
    "gpuNum": 1,
    "hideHardwareSpecs": false,
    "memoryGiB": 256,
    "name": "ml.g5.16xlarge",
    "vcpuNum": 64
   },
   {
    "_defaultOrder": 52,
    "_isFastLaunch": false,
    "category": "Accelerated computing",
    "gpuNum": 4,
    "hideHardwareSpecs": false,
    "memoryGiB": 192,
    "name": "ml.g5.12xlarge",
    "vcpuNum": 48
   },
   {
    "_defaultOrder": 53,
    "_isFastLaunch": false,
    "category": "Accelerated computing",
    "gpuNum": 4,
    "hideHardwareSpecs": false,
    "memoryGiB": 384,
    "name": "ml.g5.24xlarge",
    "vcpuNum": 96
   },
   {
    "_defaultOrder": 54,
    "_isFastLaunch": false,
    "category": "Accelerated computing",
    "gpuNum": 8,
    "hideHardwareSpecs": false,
    "memoryGiB": 768,
    "name": "ml.g5.48xlarge",
    "vcpuNum": 192
   },
   {
    "_defaultOrder": 55,
    "_isFastLaunch": false,
    "category": "Accelerated computing",
    "gpuNum": 8,
    "hideHardwareSpecs": false,
    "memoryGiB": 1152,
    "name": "ml.p4d.24xlarge",
    "vcpuNum": 96
   },
   {
    "_defaultOrder": 56,
    "_isFastLaunch": false,
    "category": "Accelerated computing",
    "gpuNum": 8,
    "hideHardwareSpecs": false,
    "memoryGiB": 1152,
    "name": "ml.p4de.24xlarge",
    "vcpuNum": 96
   }
  ],
  "instance_type": "ml.t3.medium",
  "kernelspec": {
   "display_name": "conda_pytorch_p310",
   "language": "python",
   "name": "conda_pytorch_p310"
  },
  "language_info": {
   "codemirror_mode": {
    "name": "ipython",
    "version": 3
   },
   "file_extension": ".py",
   "mimetype": "text/x-python",
   "name": "python",
   "nbconvert_exporter": "python",
   "pygments_lexer": "ipython3",
   "version": "3.10.14"
  }
 },
 "nbformat": 4,
 "nbformat_minor": 5
}
